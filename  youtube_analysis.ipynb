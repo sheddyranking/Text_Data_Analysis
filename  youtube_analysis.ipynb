{
 "cells": [
  {
   "cell_type": "markdown",
   "id": "bb7812f2",
   "metadata": {},
   "source": [
    "### Import library"
   ]
  },
  {
   "cell_type": "code",
   "execution_count": 1,
   "id": "925dc516",
   "metadata": {},
   "outputs": [],
   "source": [
    "import pandas as pd \n",
    "import numpy as np\n",
    "import matplotlib.pyplot as plt\n",
    "import seaborn as sns\n",
    "\n",
    "import warnings\n",
    "warnings.filterwarnings('ignore')"
   ]
  },
  {
   "cell_type": "markdown",
   "id": "809bbd71",
   "metadata": {},
   "source": [
    "### Read Csv"
   ]
  },
  {
   "cell_type": "code",
   "execution_count": 2,
   "id": "5f6f7f85",
   "metadata": {},
   "outputs": [
    {
     "name": "stderr",
     "output_type": "stream",
     "text": [
      "b'Skipping line 41589: expected 4 fields, saw 11\\nSkipping line 51628: expected 4 fields, saw 7\\nSkipping line 114465: expected 4 fields, saw 5\\n'\n",
      "b'Skipping line 142496: expected 4 fields, saw 8\\nSkipping line 189732: expected 4 fields, saw 6\\nSkipping line 245218: expected 4 fields, saw 7\\n'\n",
      "b'Skipping line 388430: expected 4 fields, saw 5\\n'\n"
     ]
    },
    {
     "data": {
      "text/html": [
       "<div>\n",
       "<style scoped>\n",
       "    .dataframe tbody tr th:only-of-type {\n",
       "        vertical-align: middle;\n",
       "    }\n",
       "\n",
       "    .dataframe tbody tr th {\n",
       "        vertical-align: top;\n",
       "    }\n",
       "\n",
       "    .dataframe thead th {\n",
       "        text-align: right;\n",
       "    }\n",
       "</style>\n",
       "<table border=\"1\" class=\"dataframe\">\n",
       "  <thead>\n",
       "    <tr style=\"text-align: right;\">\n",
       "      <th></th>\n",
       "      <th>video_id</th>\n",
       "      <th>comment_text</th>\n",
       "      <th>likes</th>\n",
       "      <th>replies</th>\n",
       "    </tr>\n",
       "  </thead>\n",
       "  <tbody>\n",
       "    <tr>\n",
       "      <th>0</th>\n",
       "      <td>XpVt6Z1Gjjo</td>\n",
       "      <td>Logan Paul it's yo big day ‼️‼️‼️</td>\n",
       "      <td>4</td>\n",
       "      <td>0</td>\n",
       "    </tr>\n",
       "    <tr>\n",
       "      <th>1</th>\n",
       "      <td>XpVt6Z1Gjjo</td>\n",
       "      <td>I've been following you from the start of your...</td>\n",
       "      <td>3</td>\n",
       "      <td>0</td>\n",
       "    </tr>\n",
       "    <tr>\n",
       "      <th>2</th>\n",
       "      <td>XpVt6Z1Gjjo</td>\n",
       "      <td>Say hi to Kong and maverick for me</td>\n",
       "      <td>3</td>\n",
       "      <td>0</td>\n",
       "    </tr>\n",
       "    <tr>\n",
       "      <th>3</th>\n",
       "      <td>XpVt6Z1Gjjo</td>\n",
       "      <td>MY FAN . attendance</td>\n",
       "      <td>3</td>\n",
       "      <td>0</td>\n",
       "    </tr>\n",
       "    <tr>\n",
       "      <th>4</th>\n",
       "      <td>XpVt6Z1Gjjo</td>\n",
       "      <td>trending 😉</td>\n",
       "      <td>3</td>\n",
       "      <td>0</td>\n",
       "    </tr>\n",
       "  </tbody>\n",
       "</table>\n",
       "</div>"
      ],
      "text/plain": [
       "      video_id                                       comment_text likes  \\\n",
       "0  XpVt6Z1Gjjo                  Logan Paul it's yo big day ‼️‼️‼️     4   \n",
       "1  XpVt6Z1Gjjo  I've been following you from the start of your...     3   \n",
       "2  XpVt6Z1Gjjo                 Say hi to Kong and maverick for me     3   \n",
       "3  XpVt6Z1Gjjo                                MY FAN . attendance     3   \n",
       "4  XpVt6Z1Gjjo                                         trending 😉     3   \n",
       "\n",
       "  replies  \n",
       "0       0  \n",
       "1       0  \n",
       "2       0  \n",
       "3       0  \n",
       "4       0  "
      ]
     },
     "execution_count": 2,
     "metadata": {},
     "output_type": "execute_result"
    }
   ],
   "source": [
    "comments = pd.read_csv('UScomments.csv',error_bad_lines=False)\n",
    "comments.head()"
   ]
  },
  {
   "cell_type": "markdown",
   "id": "9a297eaa",
   "metadata": {},
   "source": [
    "### Check and Drop Missing values"
   ]
  },
  {
   "cell_type": "code",
   "execution_count": 3,
   "id": "43cfc844",
   "metadata": {},
   "outputs": [
    {
     "data": {
      "text/plain": [
       "video_id         0\n",
       "comment_text    25\n",
       "likes            0\n",
       "replies          0\n",
       "dtype: int64"
      ]
     },
     "execution_count": 3,
     "metadata": {},
     "output_type": "execute_result"
    }
   ],
   "source": [
    "comments.isnull().sum()"
   ]
  },
  {
   "cell_type": "code",
   "execution_count": 4,
   "id": "2155768e",
   "metadata": {},
   "outputs": [],
   "source": [
    "comments.dropna(inplace=True)"
   ]
  },
  {
   "cell_type": "markdown",
   "id": "03827092",
   "metadata": {},
   "source": [
    "### Install Package textblob"
   ]
  },
  {
   "cell_type": "code",
   "execution_count": 5,
   "id": "c3b89085",
   "metadata": {
    "run_control": {
     "marked": true
    }
   },
   "outputs": [
    {
     "name": "stdout",
     "output_type": "stream",
     "text": [
      "Requirement already satisfied: textblob in c:\\programdata\\anaconda3\\lib\\site-packages (0.17.1)\n",
      "Requirement already satisfied: nltk>=3.1 in c:\\programdata\\anaconda3\\lib\\site-packages (from textblob) (3.6.5)\n",
      "Requirement already satisfied: click in c:\\programdata\\anaconda3\\lib\\site-packages (from nltk>=3.1->textblob) (8.0.3)\n",
      "Requirement already satisfied: joblib in c:\\programdata\\anaconda3\\lib\\site-packages (from nltk>=3.1->textblob) (1.1.0)\n",
      "Requirement already satisfied: regex>=2021.8.3 in c:\\programdata\\anaconda3\\lib\\site-packages (from nltk>=3.1->textblob) (2021.8.3)\n",
      "Requirement already satisfied: tqdm in c:\\programdata\\anaconda3\\lib\\site-packages (from nltk>=3.1->textblob) (4.62.3)\n",
      "Requirement already satisfied: colorama in c:\\programdata\\anaconda3\\lib\\site-packages (from click->nltk>=3.1->textblob) (0.4.4)\n"
     ]
    }
   ],
   "source": [
    "!pip install textblob"
   ]
  },
  {
   "cell_type": "code",
   "execution_count": 6,
   "id": "a78e80ac",
   "metadata": {},
   "outputs": [],
   "source": [
    "from textblob import TextBlob"
   ]
  },
  {
   "cell_type": "markdown",
   "id": "367780a4",
   "metadata": {},
   "source": [
    "### Perform Sentiment Analysis"
   ]
  },
  {
   "cell_type": "code",
   "execution_count": 7,
   "id": "6a688d9a",
   "metadata": {},
   "outputs": [
    {
     "data": {
      "text/plain": [
       "Sentiment(polarity=0.0, subjectivity=0.0)"
      ]
     },
     "execution_count": 7,
     "metadata": {},
     "output_type": "execute_result"
    }
   ],
   "source": [
    "## perform sentiment on a single comment-text\n",
    "TextBlob('trending 😉').sentiment"
   ]
  },
  {
   "cell_type": "code",
   "execution_count": 8,
   "id": "8752de08",
   "metadata": {},
   "outputs": [
    {
     "data": {
      "text/plain": [
       "0.0"
      ]
     },
     "execution_count": 8,
     "metadata": {},
     "output_type": "execute_result"
    }
   ],
   "source": [
    "##find the polarity or subjectivity\n",
    "TextBlob('trending 😉').sentiment.polarity"
   ]
  },
  {
   "cell_type": "code",
   "execution_count": 9,
   "id": "cf83113d",
   "metadata": {},
   "outputs": [],
   "source": [
    "#if the code below runs slow,then define a sample size of the comment-text\n",
    "sample_size = comments[0:10000]\n",
    "\n",
    "#if the runs well, then use 'comments' directly without defining sample size."
   ]
  },
  {
   "cell_type": "code",
   "execution_count": 10,
   "id": "66df2b7e",
   "metadata": {},
   "outputs": [],
   "source": [
    "## write a forloop to handle all the comment-texts\n",
    "polarity = []\n",
    "for comment in  sample_size['comment_text']: \n",
    "    try:\n",
    "        polarity.append(TextBlob(comment).sentiment.polarity)\n",
    "    except:\n",
    "        polarity.append(0)\n",
    "        \n"
   ]
  },
  {
   "cell_type": "code",
   "execution_count": 11,
   "id": "b9d2c8c2",
   "metadata": {},
   "outputs": [
    {
     "name": "stdout",
     "output_type": "stream",
     "text": [
      "[0.0, 0.0, 0.0, 0.0, 0.0, 0.0, 0.0, 0.0, 0.8, -0.13571428571428573, 0.0, 0.2, -0.023333333333333352, 0.5, 0.0, 0.8, -0.2916666666666667, 0.0, 0.25, -0.8, 0.0, 0.0, 0.65, 0.0, 0.375, 0.0, 0.0, 0.5, -0.04999999999999999, 0.34448051948051944, 0.5, 0.6, 0.0, 0.0, -0.30625, 0.28828125, -0.36458333333333337, 0.5, 0.012499999999999997, 0.11904761904761905, 0.16666666666666666, 0.0, -0.4, -0.125, -0.07142857142857142, 0.40727272727272723, 0.0, 0.35, 0.0, -0.03415584415584416]\n"
     ]
    }
   ],
   "source": [
    "#You can show the polarity of 10 comment-text\n",
    "print(polarity[0:50])"
   ]
  },
  {
   "cell_type": "code",
   "execution_count": null,
   "id": "2d92b45a",
   "metadata": {},
   "outputs": [],
   "source": []
  },
  {
   "cell_type": "code",
   "execution_count": 12,
   "id": "2ab45168",
   "metadata": {
    "run_control": {
     "marked": true
    }
   },
   "outputs": [],
   "source": [
    "#you can append the polarity back into the comments\n",
    "sample_size['polarity'] = polarity"
   ]
  },
  {
   "cell_type": "code",
   "execution_count": 13,
   "id": "911ba5e6",
   "metadata": {},
   "outputs": [
    {
     "data": {
      "text/html": [
       "<div>\n",
       "<style scoped>\n",
       "    .dataframe tbody tr th:only-of-type {\n",
       "        vertical-align: middle;\n",
       "    }\n",
       "\n",
       "    .dataframe tbody tr th {\n",
       "        vertical-align: top;\n",
       "    }\n",
       "\n",
       "    .dataframe thead th {\n",
       "        text-align: right;\n",
       "    }\n",
       "</style>\n",
       "<table border=\"1\" class=\"dataframe\">\n",
       "  <thead>\n",
       "    <tr style=\"text-align: right;\">\n",
       "      <th></th>\n",
       "      <th>video_id</th>\n",
       "      <th>comment_text</th>\n",
       "      <th>likes</th>\n",
       "      <th>replies</th>\n",
       "      <th>polarity</th>\n",
       "    </tr>\n",
       "  </thead>\n",
       "  <tbody>\n",
       "    <tr>\n",
       "      <th>0</th>\n",
       "      <td>XpVt6Z1Gjjo</td>\n",
       "      <td>Logan Paul it's yo big day ‼️‼️‼️</td>\n",
       "      <td>4</td>\n",
       "      <td>0</td>\n",
       "      <td>0.000000</td>\n",
       "    </tr>\n",
       "    <tr>\n",
       "      <th>1</th>\n",
       "      <td>XpVt6Z1Gjjo</td>\n",
       "      <td>I've been following you from the start of your...</td>\n",
       "      <td>3</td>\n",
       "      <td>0</td>\n",
       "      <td>0.000000</td>\n",
       "    </tr>\n",
       "    <tr>\n",
       "      <th>2</th>\n",
       "      <td>XpVt6Z1Gjjo</td>\n",
       "      <td>Say hi to Kong and maverick for me</td>\n",
       "      <td>3</td>\n",
       "      <td>0</td>\n",
       "      <td>0.000000</td>\n",
       "    </tr>\n",
       "    <tr>\n",
       "      <th>3</th>\n",
       "      <td>XpVt6Z1Gjjo</td>\n",
       "      <td>MY FAN . attendance</td>\n",
       "      <td>3</td>\n",
       "      <td>0</td>\n",
       "      <td>0.000000</td>\n",
       "    </tr>\n",
       "    <tr>\n",
       "      <th>4</th>\n",
       "      <td>XpVt6Z1Gjjo</td>\n",
       "      <td>trending 😉</td>\n",
       "      <td>3</td>\n",
       "      <td>0</td>\n",
       "      <td>0.000000</td>\n",
       "    </tr>\n",
       "    <tr>\n",
       "      <th>5</th>\n",
       "      <td>XpVt6Z1Gjjo</td>\n",
       "      <td>#1 on trending AYYEEEEE</td>\n",
       "      <td>3</td>\n",
       "      <td>0</td>\n",
       "      <td>0.000000</td>\n",
       "    </tr>\n",
       "    <tr>\n",
       "      <th>6</th>\n",
       "      <td>XpVt6Z1Gjjo</td>\n",
       "      <td>The end though 😭👍🏻❤️</td>\n",
       "      <td>4</td>\n",
       "      <td>0</td>\n",
       "      <td>0.000000</td>\n",
       "    </tr>\n",
       "    <tr>\n",
       "      <th>7</th>\n",
       "      <td>XpVt6Z1Gjjo</td>\n",
       "      <td>#1 trending!!!!!!!!!</td>\n",
       "      <td>3</td>\n",
       "      <td>0</td>\n",
       "      <td>0.000000</td>\n",
       "    </tr>\n",
       "    <tr>\n",
       "      <th>8</th>\n",
       "      <td>XpVt6Z1Gjjo</td>\n",
       "      <td>Happy one year vlogaversary</td>\n",
       "      <td>3</td>\n",
       "      <td>0</td>\n",
       "      <td>0.800000</td>\n",
       "    </tr>\n",
       "    <tr>\n",
       "      <th>9</th>\n",
       "      <td>XpVt6Z1Gjjo</td>\n",
       "      <td>You and your shit brother may have single hand...</td>\n",
       "      <td>0</td>\n",
       "      <td>0</td>\n",
       "      <td>-0.135714</td>\n",
       "    </tr>\n",
       "    <tr>\n",
       "      <th>10</th>\n",
       "      <td>XpVt6Z1Gjjo</td>\n",
       "      <td>There should be a mini Logan Paul too!</td>\n",
       "      <td>0</td>\n",
       "      <td>0</td>\n",
       "      <td>0.000000</td>\n",
       "    </tr>\n",
       "    <tr>\n",
       "      <th>11</th>\n",
       "      <td>XpVt6Z1Gjjo</td>\n",
       "      <td>Dear Logan, I really wanna get your Merch but ...</td>\n",
       "      <td>0</td>\n",
       "      <td>0</td>\n",
       "      <td>0.200000</td>\n",
       "    </tr>\n",
       "    <tr>\n",
       "      <th>12</th>\n",
       "      <td>XpVt6Z1Gjjo</td>\n",
       "      <td>Honestly Evan is so annoying. Like its not fun...</td>\n",
       "      <td>0</td>\n",
       "      <td>0</td>\n",
       "      <td>-0.023333</td>\n",
       "    </tr>\n",
       "    <tr>\n",
       "      <th>13</th>\n",
       "      <td>XpVt6Z1Gjjo</td>\n",
       "      <td>Casey is still better then logan</td>\n",
       "      <td>0</td>\n",
       "      <td>0</td>\n",
       "      <td>0.500000</td>\n",
       "    </tr>\n",
       "  </tbody>\n",
       "</table>\n",
       "</div>"
      ],
      "text/plain": [
       "       video_id                                       comment_text likes  \\\n",
       "0   XpVt6Z1Gjjo                  Logan Paul it's yo big day ‼️‼️‼️     4   \n",
       "1   XpVt6Z1Gjjo  I've been following you from the start of your...     3   \n",
       "2   XpVt6Z1Gjjo                 Say hi to Kong and maverick for me     3   \n",
       "3   XpVt6Z1Gjjo                                MY FAN . attendance     3   \n",
       "4   XpVt6Z1Gjjo                                         trending 😉     3   \n",
       "5   XpVt6Z1Gjjo                            #1 on trending AYYEEEEE     3   \n",
       "6   XpVt6Z1Gjjo                               The end though 😭👍🏻❤️     4   \n",
       "7   XpVt6Z1Gjjo                               #1 trending!!!!!!!!!     3   \n",
       "8   XpVt6Z1Gjjo                        Happy one year vlogaversary     3   \n",
       "9   XpVt6Z1Gjjo  You and your shit brother may have single hand...     0   \n",
       "10  XpVt6Z1Gjjo             There should be a mini Logan Paul too!     0   \n",
       "11  XpVt6Z1Gjjo  Dear Logan, I really wanna get your Merch but ...     0   \n",
       "12  XpVt6Z1Gjjo  Honestly Evan is so annoying. Like its not fun...     0   \n",
       "13  XpVt6Z1Gjjo                   Casey is still better then logan     0   \n",
       "\n",
       "   replies  polarity  \n",
       "0        0  0.000000  \n",
       "1        0  0.000000  \n",
       "2        0  0.000000  \n",
       "3        0  0.000000  \n",
       "4        0  0.000000  \n",
       "5        0  0.000000  \n",
       "6        0  0.000000  \n",
       "7        0  0.000000  \n",
       "8        0  0.800000  \n",
       "9        0 -0.135714  \n",
       "10       0  0.000000  \n",
       "11       0  0.200000  \n",
       "12       0 -0.023333  \n",
       "13       0  0.500000  "
      ]
     },
     "execution_count": 13,
     "metadata": {},
     "output_type": "execute_result"
    }
   ],
   "source": [
    "sample_size.head(14)"
   ]
  },
  {
   "cell_type": "code",
   "execution_count": 14,
   "id": "2752dccf",
   "metadata": {},
   "outputs": [
    {
     "data": {
      "text/html": [
       "<div>\n",
       "<style scoped>\n",
       "    .dataframe tbody tr th:only-of-type {\n",
       "        vertical-align: middle;\n",
       "    }\n",
       "\n",
       "    .dataframe tbody tr th {\n",
       "        vertical-align: top;\n",
       "    }\n",
       "\n",
       "    .dataframe thead th {\n",
       "        text-align: right;\n",
       "    }\n",
       "</style>\n",
       "<table border=\"1\" class=\"dataframe\">\n",
       "  <thead>\n",
       "    <tr style=\"text-align: right;\">\n",
       "      <th></th>\n",
       "      <th>video_id</th>\n",
       "      <th>comment_text</th>\n",
       "      <th>likes</th>\n",
       "      <th>replies</th>\n",
       "      <th>polarity</th>\n",
       "    </tr>\n",
       "  </thead>\n",
       "  <tbody>\n",
       "    <tr>\n",
       "      <th>64</th>\n",
       "      <td>XpVt6Z1Gjjo</td>\n",
       "      <td>yu are the best</td>\n",
       "      <td>1</td>\n",
       "      <td>0</td>\n",
       "      <td>1.0</td>\n",
       "    </tr>\n",
       "    <tr>\n",
       "      <th>156</th>\n",
       "      <td>cLdxuaxaQwc</td>\n",
       "      <td>Power is the disease.  Care is the cure.  Keep...</td>\n",
       "      <td>0</td>\n",
       "      <td>0</td>\n",
       "      <td>1.0</td>\n",
       "    </tr>\n",
       "    <tr>\n",
       "      <th>227</th>\n",
       "      <td>WYYvHb03Eog</td>\n",
       "      <td>YAS Can't wait to get it! I just need to sell ...</td>\n",
       "      <td>0</td>\n",
       "      <td>0</td>\n",
       "      <td>1.0</td>\n",
       "    </tr>\n",
       "    <tr>\n",
       "      <th>307</th>\n",
       "      <td>sjlHnJvXdQs</td>\n",
       "      <td>This is priceless</td>\n",
       "      <td>0</td>\n",
       "      <td>0</td>\n",
       "      <td>1.0</td>\n",
       "    </tr>\n",
       "    <tr>\n",
       "      <th>319</th>\n",
       "      <td>sjlHnJvXdQs</td>\n",
       "      <td>Summed up perfectly</td>\n",
       "      <td>0</td>\n",
       "      <td>0</td>\n",
       "      <td>1.0</td>\n",
       "    </tr>\n",
       "  </tbody>\n",
       "</table>\n",
       "</div>"
      ],
      "text/plain": [
       "        video_id                                       comment_text likes  \\\n",
       "64   XpVt6Z1Gjjo                                    yu are the best     1   \n",
       "156  cLdxuaxaQwc  Power is the disease.  Care is the cure.  Keep...     0   \n",
       "227  WYYvHb03Eog  YAS Can't wait to get it! I just need to sell ...     0   \n",
       "307  sjlHnJvXdQs                                  This is priceless     0   \n",
       "319  sjlHnJvXdQs                                Summed up perfectly     0   \n",
       "\n",
       "    replies  polarity  \n",
       "64        0       1.0  \n",
       "156       0       1.0  \n",
       "227       0       1.0  \n",
       "307       0       1.0  \n",
       "319       0       1.0  "
      ]
     },
     "execution_count": 14,
     "metadata": {},
     "output_type": "execute_result"
    }
   ],
   "source": [
    "## display positive sample size of comment-text\n",
    "comments_positive = sample_size[sample_size['polarity'] ==1]\n",
    "comments_positive.head()"
   ]
  },
  {
   "cell_type": "code",
   "execution_count": 15,
   "id": "f96032e7",
   "metadata": {},
   "outputs": [
    {
     "data": {
      "text/html": [
       "<div>\n",
       "<style scoped>\n",
       "    .dataframe tbody tr th:only-of-type {\n",
       "        vertical-align: middle;\n",
       "    }\n",
       "\n",
       "    .dataframe tbody tr th {\n",
       "        vertical-align: top;\n",
       "    }\n",
       "\n",
       "    .dataframe thead th {\n",
       "        text-align: right;\n",
       "    }\n",
       "</style>\n",
       "<table border=\"1\" class=\"dataframe\">\n",
       "  <thead>\n",
       "    <tr style=\"text-align: right;\">\n",
       "      <th></th>\n",
       "      <th>video_id</th>\n",
       "      <th>comment_text</th>\n",
       "      <th>likes</th>\n",
       "      <th>replies</th>\n",
       "      <th>polarity</th>\n",
       "    </tr>\n",
       "  </thead>\n",
       "  <tbody>\n",
       "    <tr>\n",
       "      <th>512</th>\n",
       "      <td>8wNr-NQImFg</td>\n",
       "      <td>BEN CARSON IS THE MAN!!!!! THEY HATE HIM CAUSE...</td>\n",
       "      <td>0</td>\n",
       "      <td>0</td>\n",
       "      <td>-1.0</td>\n",
       "    </tr>\n",
       "    <tr>\n",
       "      <th>562</th>\n",
       "      <td>8wNr-NQImFg</td>\n",
       "      <td>Well… The brain surgeon Ben Carson just proved...</td>\n",
       "      <td>0</td>\n",
       "      <td>0</td>\n",
       "      <td>-1.0</td>\n",
       "    </tr>\n",
       "    <tr>\n",
       "      <th>952</th>\n",
       "      <td>Ayb_2qbZHm4</td>\n",
       "      <td>WHY DID YOU MAKE FURRY FORCE?! SO NASTY!!!</td>\n",
       "      <td>0</td>\n",
       "      <td>0</td>\n",
       "      <td>-1.0</td>\n",
       "    </tr>\n",
       "    <tr>\n",
       "      <th>1371</th>\n",
       "      <td>vu_9muoxT50</td>\n",
       "      <td>WTF BRUH!!!!!!</td>\n",
       "      <td>0</td>\n",
       "      <td>0</td>\n",
       "      <td>-1.0</td>\n",
       "    </tr>\n",
       "    <tr>\n",
       "      <th>1391</th>\n",
       "      <td>vu_9muoxT50</td>\n",
       "      <td>cheeseus christ thats insane!!!</td>\n",
       "      <td>0</td>\n",
       "      <td>0</td>\n",
       "      <td>-1.0</td>\n",
       "    </tr>\n",
       "  </tbody>\n",
       "</table>\n",
       "</div>"
      ],
      "text/plain": [
       "         video_id                                       comment_text likes  \\\n",
       "512   8wNr-NQImFg  BEN CARSON IS THE MAN!!!!! THEY HATE HIM CAUSE...     0   \n",
       "562   8wNr-NQImFg  Well… The brain surgeon Ben Carson just proved...     0   \n",
       "952   Ayb_2qbZHm4         WHY DID YOU MAKE FURRY FORCE?! SO NASTY!!!     0   \n",
       "1371  vu_9muoxT50                                     WTF BRUH!!!!!!     0   \n",
       "1391  vu_9muoxT50                    cheeseus christ thats insane!!!     0   \n",
       "\n",
       "     replies  polarity  \n",
       "512        0      -1.0  \n",
       "562        0      -1.0  \n",
       "952        0      -1.0  \n",
       "1371       0      -1.0  \n",
       "1391       0      -1.0  "
      ]
     },
     "execution_count": 15,
     "metadata": {},
     "output_type": "execute_result"
    }
   ],
   "source": [
    "# display Negative sample size of the comments-text\n",
    "comments_negative = sample_size[sample_size['polarity'] == -1]\n",
    "comments_negative.head()"
   ]
  },
  {
   "cell_type": "markdown",
   "id": "889d3b54",
   "metadata": {},
   "source": [
    "### install package wordcloud \n",
    "Check `README` for installing wordcloud."
   ]
  },
  {
   "cell_type": "code",
   "execution_count": 16,
   "id": "f8ca150c",
   "metadata": {},
   "outputs": [],
   "source": [
    "from wordcloud import WordCloud, STOPWORDS"
   ]
  },
  {
   "cell_type": "code",
   "execution_count": 17,
   "id": "524d334b",
   "metadata": {},
   "outputs": [
    {
     "data": {
      "text/plain": [
       "512     BEN CARSON IS THE MAN!!!!! THEY HATE HIM CAUSE...\n",
       "562     Well… The brain surgeon Ben Carson just proved...\n",
       "952            WHY DID YOU MAKE FURRY FORCE?! SO NASTY!!!\n",
       "1371                                       WTF BRUH!!!!!!\n",
       "1391                      cheeseus christ thats insane!!!\n",
       "1932            this is the worst thing i've heard. ever.\n",
       "2043    Economy is horrible in Cuba. It's going to be ...\n",
       "2088                        Sub to me if this is terrible\n",
       "2192                                             PATHETIC\n",
       "2410    I don't like this sportscaster  sounds very an...\n",
       "2482                               commentators are awful\n",
       "2728    This tv show became trump witch hunt tube... a...\n",
       "2733    Arpaio should be arrested again for horribly b...\n",
       "2750        This  show has become one-noted and pathetic.\n",
       "2817                                HARD CANDY!!!!!!!!!!!\n",
       "2886                  Tired of the philosophy add !!!!!!!\n",
       "3086                                               boring\n",
       "3092                    0:22   **laughs at terrible pun**\n",
       "3222    Why is media even covering this disgusting wom...\n",
       "3371                         How is this trending ? Awful\n",
       "3514    a horrible attempt to try and get us to freak out\n",
       "3529       this is one of the worst videos I've ever seen\n",
       "3561                    Whats with the horrible music? tf\n",
       "4006                                    She is the worst.\n",
       "4094                                               Boring\n",
       "4481                                               boring\n",
       "4699    Pls make star vs the forces of evil cookies or...\n",
       "4924                                  Oliver is an idiot!\n",
       "5397    I won't read this comment. What a Dick I am, I...\n",
       "5551                                             Terrible\n",
       "5773        They got the worst brand of honey soy chips 😂\n",
       "5920    Please let this die, you can tell the actors a...\n",
       "5943                                       can't wait :'(\n",
       "5959    Don't be bringing cucumbers to the theaters th...\n",
       "6083    OMG...he's Stephen FUCKING Hawkings !!!!   (sa...\n",
       "6263                 Does Tommy knows that he's horrible?\n",
       "6442                                         Insane album\n",
       "6592                                       this is boring\n",
       "7698    The ripping of the evil Qur’aan and If I am no...\n",
       "7742          Whoever did your makeup did a terrible job.\n",
       "7978    Her book should be titled, Damn I can't even b...\n",
       "7979    The like to dislike ratio to this video is jus...\n",
       "8283    Is she into you? If you watch I video like thi...\n",
       "8365    Do you guys JUST hate it when people edit thei...\n",
       "8435                      she has the worst fashion sense\n",
       "8570    3:33 to 3:36 they would jerk around uncontroll...\n",
       "9150    Prayers to everyone who was affected by this t...\n",
       "9225    9/11 was a terrible day but it did bring all A...\n",
       "9233         she's horrible, stop hiring for looks alone.\n",
       "9241                                          She's awful\n",
       "9277            Every *9/11* something horrific happens..\n",
       "9535    oh my god it's so crazy!!! dios protejenos  de...\n",
       "9736                                          Pathetic...\n",
       "9944                                          WHAT IDIOT!\n",
       "Name: comment_text, dtype: object"
      ]
     },
     "execution_count": 17,
     "metadata": {},
     "output_type": "execute_result"
    }
   ],
   "source": [
    "comments_negative['comment_text']"
   ]
  },
  {
   "cell_type": "markdown",
   "id": "6d866279",
   "metadata": {},
   "source": [
    "#### converting the negative comment-text into `str`"
   ]
  },
  {
   "cell_type": "code",
   "execution_count": 18,
   "id": "5db8e6a7",
   "metadata": {},
   "outputs": [],
   "source": [
    "# we use the `.join` method\n",
    "\n",
    "total_comments = ' '.join(comments_negative['comment_text'])"
   ]
  },
  {
   "cell_type": "code",
   "execution_count": 19,
   "id": "0233c16b",
   "metadata": {},
   "outputs": [
    {
     "data": {
      "text/plain": [
       "\"BEN CARSON IS THE MAN!!!!! THEY HATE HIM CAUSE HE EXPOSED HITLARY'S RITUAL ABUSE ON CHILDREN!!!!!!! \""
      ]
     },
     "execution_count": 19,
     "metadata": {},
     "output_type": "execute_result"
    }
   ],
   "source": [
    "#show first 100 converted negative comment_text\n",
    "total_comments[0:100]"
   ]
  },
  {
   "cell_type": "markdown",
   "id": "4173f2c8",
   "metadata": {},
   "source": [
    "#### Perform the Sentiment Analysis and show plot"
   ]
  },
  {
   "cell_type": "code",
   "execution_count": 20,
   "id": "9f09bb4a",
   "metadata": {},
   "outputs": [
    {
     "data": {
      "image/png": "[encoded data removed]",
      "text/plain": [
       "<Figure size 1080x360 with 1 Axes>"
      ]
     },
     "metadata": {
      "needs_background": "light"
     },
     "output_type": "display_data"
    }
   ],
   "source": [
    "# Performing the sentiment analysis on negative comment_text.\n",
    "\n",
    "wordcloud = WordCloud(stopwords=set(STOPWORDS)).generate(total_comments)\n",
    "plt.figure(figsize=(15,5))\n",
    "plt.imshow(wordcloud)\n",
    "plt.axis('off')\n",
    "\n",
    "plt.savefig('Negative_comment.Png', dpi=300)"
   ]
  },
  {
   "cell_type": "markdown",
   "id": "18ed20a1",
   "metadata": {},
   "source": [
    "#### converting the Positive comment-text into `str`"
   ]
  },
  {
   "cell_type": "code",
   "execution_count": 21,
   "id": "90cb8068",
   "metadata": {},
   "outputs": [],
   "source": [
    "total_comments2 = ' '.join(comments_positive['comment_text'])"
   ]
  },
  {
   "cell_type": "markdown",
   "id": "0e0431d1",
   "metadata": {},
   "source": [
    "  ####  Perform the Sentiment Analysis and show plot"
   ]
  },
  {
   "cell_type": "code",
   "execution_count": 22,
   "id": "c174f277",
   "metadata": {},
   "outputs": [
    {
     "data": {
      "image/png": "[encoded data removed]",
      "text/plain": [
       "<Figure size 1080x360 with 1 Axes>"
      ]
     },
     "metadata": {
      "needs_background": "light"
     },
     "output_type": "display_data"
    }
   ],
   "source": [
    "# Performing the sentiment analysis on positive comment_text.\n",
    "\n",
    "wordcloud = WordCloud(stopwords=set(STOPWORDS)).generate(total_comments2)\n",
    "plt.figure(figsize=(15,5))\n",
    "plt.imshow(wordcloud)\n",
    "plt.axis('off')\n",
    "\n",
    "plt.savefig('Positive_comment.Png', dpi=300)"
   ]
  },
  {
   "cell_type": "markdown",
   "id": "925cc5d0",
   "metadata": {},
   "source": [
    "### Emoji Analysis.\n",
    "Check `README` on how to install the package"
   ]
  },
  {
   "cell_type": "code",
   "execution_count": 23,
   "id": "23f36dd5",
   "metadata": {},
   "outputs": [],
   "source": [
    "import emoji "
   ]
  },
  {
   "cell_type": "markdown",
   "id": "860d0a6e",
   "metadata": {},
   "source": [
    "#### Extacting emoji's in comment-text from the reduce sample_size. "
   ]
  },
  {
   "cell_type": "code",
   "execution_count": 37,
   "id": "ec1ab6ef",
   "metadata": {},
   "outputs": [],
   "source": [
    "# write an iterating list comprehension. to itereate all the emoji from the sample_size.\n",
    "\n",
    "emoji_list = []\n",
    "for comment in comments['comment_text']:\n",
    "    for char in comment:\n",
    "        if char in emoji.UNICODE_EMOJI_ENGLISH:\n",
    "            emoji_list.append(char)"
   ]
  },
  {
   "cell_type": "code",
   "execution_count": 38,
   "id": "e7e32e2f",
   "metadata": {},
   "outputs": [
    {
     "data": {
      "text/plain": [
       "294549"
      ]
     },
     "execution_count": 38,
     "metadata": {},
     "output_type": "execute_result"
    }
   ],
   "source": [
    "len(emoji_list)"
   ]
  },
  {
   "cell_type": "markdown",
   "id": "2df860c3",
   "metadata": {},
   "source": [
    "#### collection model.\n",
    "check `Note` in README`"
   ]
  },
  {
   "cell_type": "code",
   "execution_count": 39,
   "id": "7269ef16",
   "metadata": {},
   "outputs": [],
   "source": [
    "from collections import Counter"
   ]
  },
  {
   "cell_type": "code",
   "execution_count": 40,
   "id": "5bfc9872",
   "metadata": {},
   "outputs": [
    {
     "data": {
      "text/plain": [
       "Counter({'‼': 211,\n",
       "         '😉': 998,\n",
       "         '😭': 8398,\n",
       "         '👍': 5476,\n",
       "         '🏻': 3438,\n",
       "         '❤': 31119,\n",
       "         '😍': 33453,\n",
       "         '💋': 968,\n",
       "         '💙': 2831,\n",
       "         '👈': 126,\n",
       "         '😂': 36987,\n",
       "         '🔥': 8694,\n",
       "         '👻': 268,\n",
       "         '💎': 316,\n",
       "         '😆': 1149,\n",
       "         '😁': 2220,\n",
       "         '😒': 629,\n",
       "         '👏': 5719,\n",
       "         '😊': 3596,\n",
       "         '👌': 3112,\n",
       "         '🤔': 1592,\n",
       "         '💔': 617,\n",
       "         '👎': 673,\n",
       "         '🍎': 49,\n",
       "         '😤': 378,\n",
       "         '😢': 2672,\n",
       "         '👫': 33,\n",
       "         '💘': 702,\n",
       "         '😻': 1409,\n",
       "         '💖': 5359,\n",
       "         '🌟': 549,\n",
       "         '😮': 1232,\n",
       "         '👇': 151,\n",
       "         '😳': 398,\n",
       "         '😠': 599,\n",
       "         '😴': 187,\n",
       "         '😝': 413,\n",
       "         '™': 46,\n",
       "         '☺': 1180,\n",
       "         '😔': 545,\n",
       "         '😩': 1472,\n",
       "         '😡': 478,\n",
       "         '🙏': 1818,\n",
       "         '😄': 1496,\n",
       "         '😬': 3381,\n",
       "         '☹': 173,\n",
       "         '🤷': 334,\n",
       "         '🤣': 2279,\n",
       "         '😃': 1235,\n",
       "         '🏽': 1593,\n",
       "         '🍏': 56,\n",
       "         '😓': 280,\n",
       "         '🤦': 390,\n",
       "         '♀': 523,\n",
       "         '😞': 364,\n",
       "         '🏼': 2549,\n",
       "         '✌': 835,\n",
       "         '💀': 926,\n",
       "         '👀': 495,\n",
       "         '😱': 2094,\n",
       "         '👑': 678,\n",
       "         '🌮': 69,\n",
       "         '😀': 1734,\n",
       "         '💆': 20,\n",
       "         '🏿': 501,\n",
       "         '♂': 507,\n",
       "         '😅': 1070,\n",
       "         '🐂': 12,\n",
       "         '💩': 925,\n",
       "         '💕': 5147,\n",
       "         '💓': 1540,\n",
       "         '💗': 2144,\n",
       "         '💝': 592,\n",
       "         '💜': 3429,\n",
       "         '😎': 1358,\n",
       "         '🎉': 684,\n",
       "         '😋': 596,\n",
       "         '😘': 5545,\n",
       "         '😐': 644,\n",
       "         '😕': 453,\n",
       "         '🤘': 619,\n",
       "         '🙌': 2233,\n",
       "         '😏': 623,\n",
       "         '😛': 266,\n",
       "         '🌳': 10,\n",
       "         '🌽': 36,\n",
       "         '🎃': 739,\n",
       "         '🚣': 15,\n",
       "         '🚂': 11,\n",
       "         '😑': 487,\n",
       "         '✨': 889,\n",
       "         '👅': 194,\n",
       "         '💦': 427,\n",
       "         '🌴': 54,\n",
       "         '😫': 692,\n",
       "         '😥': 742,\n",
       "         '💪': 687,\n",
       "         '🙂': 452,\n",
       "         '🙈': 312,\n",
       "         '😲': 496,\n",
       "         '🤢': 274,\n",
       "         '🎧': 186,\n",
       "         '🎶': 906,\n",
       "         '🎵': 284,\n",
       "         '🎼': 159,\n",
       "         '🎤': 360,\n",
       "         '♨': 39,\n",
       "         '💯': 1450,\n",
       "         '👊': 379,\n",
       "         '💏': 32,\n",
       "         '🙃': 253,\n",
       "         '🐸': 124,\n",
       "         '🏈': 36,\n",
       "         '💁': 180,\n",
       "         '🤡': 305,\n",
       "         '🙇': 64,\n",
       "         '👋': 193,\n",
       "         '💄': 177,\n",
       "         '🐐': 224,\n",
       "         '😇': 640,\n",
       "         '🐊': 17,\n",
       "         '🌎': 94,\n",
       "         '🖤': 784,\n",
       "         '🤗': 896,\n",
       "         '🙄': 627,\n",
       "         '😨': 335,\n",
       "         '😌': 338,\n",
       "         '🤑': 108,\n",
       "         '😗': 354,\n",
       "         '📱': 231,\n",
       "         '🌀': 24,\n",
       "         '🏾': 1205,\n",
       "         '😶': 176,\n",
       "         '😖': 287,\n",
       "         '🙋': 282,\n",
       "         '🌹': 622,\n",
       "         '😵': 277,\n",
       "         '🌯': 50,\n",
       "         '😣': 381,\n",
       "         '💛': 1677,\n",
       "         '💞': 1420,\n",
       "         '😽': 26,\n",
       "         '♥': 4909,\n",
       "         '😜': 573,\n",
       "         '🚩': 16,\n",
       "         '🆙': 10,\n",
       "         '🆒': 17,\n",
       "         '✔': 169,\n",
       "         '🙊': 139,\n",
       "         '😹': 201,\n",
       "         '🥀': 28,\n",
       "         '🍫': 152,\n",
       "         '👸': 120,\n",
       "         '😰': 231,\n",
       "         '💚': 1295,\n",
       "         '🎊': 125,\n",
       "         '🎂': 156,\n",
       "         '🐈': 34,\n",
       "         '⌚': 19,\n",
       "         '👿': 175,\n",
       "         '💸': 235,\n",
       "         '💰': 488,\n",
       "         '🏀': 78,\n",
       "         '🎈': 610,\n",
       "         '🔪': 76,\n",
       "         '🚫': 72,\n",
       "         '🤠': 60,\n",
       "         '🖕': 884,\n",
       "         '👉': 204,\n",
       "         '✊': 289,\n",
       "         '🤴': 24,\n",
       "         '🐘': 20,\n",
       "         '❄': 206,\n",
       "         '🍦': 73,\n",
       "         '🅱': 207,\n",
       "         '😙': 1067,\n",
       "         '💧': 43,\n",
       "         '❗': 140,\n",
       "         '😈': 393,\n",
       "         '🙁': 133,\n",
       "         '👽': 162,\n",
       "         '⚠': 68,\n",
       "         '👭': 54,\n",
       "         '🍓': 252,\n",
       "         '😯': 148,\n",
       "         '🎥': 76,\n",
       "         '☝': 156,\n",
       "         '❣': 521,\n",
       "         '🎀': 46,\n",
       "         '🍭': 89,\n",
       "         '💌': 71,\n",
       "         '🐼': 52,\n",
       "         '😚': 482,\n",
       "         '🌻': 84,\n",
       "         '🐇': 28,\n",
       "         '🐰': 38,\n",
       "         '🔸': 48,\n",
       "         '🚀': 98,\n",
       "         '🚔': 14,\n",
       "         '🚒': 27,\n",
       "         '🚑': 9,\n",
       "         '💃': 382,\n",
       "         '💟': 508,\n",
       "         '💨': 67,\n",
       "         '🎺': 17,\n",
       "         '👣': 130,\n",
       "         '👆': 70,\n",
       "         '👂': 23,\n",
       "         '👃': 27,\n",
       "         '🌭': 19,\n",
       "         '👐': 147,\n",
       "         '🌊': 62,\n",
       "         '🌞': 54,\n",
       "         '🦄': 391,\n",
       "         '🌬': 13,\n",
       "         '🌪': 24,\n",
       "         '⛈': 22,\n",
       "         '🌲': 39,\n",
       "         '😸': 75,\n",
       "         '👮': 24,\n",
       "         '👕': 24,\n",
       "         '👖': 31,\n",
       "         '👘': 14,\n",
       "         '👚': 9,\n",
       "         '👔': 10,\n",
       "         '⬇': 15,\n",
       "         '🍆': 100,\n",
       "         '😦': 154,\n",
       "         '😧': 146,\n",
       "         '😟': 122,\n",
       "         '😷': 139,\n",
       "         '😪': 249,\n",
       "         '🙍': 20,\n",
       "         '🙅': 143,\n",
       "         '🙆': 96,\n",
       "         '🙎': 12,\n",
       "         '😺': 83,\n",
       "         '😼': 25,\n",
       "         '😿': 126,\n",
       "         '😾': 24,\n",
       "         '🙀': 62,\n",
       "         '🙉': 43,\n",
       "         '👶': 53,\n",
       "         '👦': 69,\n",
       "         '👧': 145,\n",
       "         '👨': 212,\n",
       "         '👩': 270,\n",
       "         '👴': 9,\n",
       "         '👵': 10,\n",
       "         '💑': 125,\n",
       "         '👪': 14,\n",
       "         '👬': 32,\n",
       "         '👤': 8,\n",
       "         '👥': 12,\n",
       "         '👷': 15,\n",
       "         '💂': 15,\n",
       "         '👯': 49,\n",
       "         '👰': 60,\n",
       "         '🎅': 55,\n",
       "         '👼': 36,\n",
       "         '👱': 24,\n",
       "         '👲': 7,\n",
       "         '👳': 26,\n",
       "         '💇': 22,\n",
       "         '💅': 127,\n",
       "         '👹': 49,\n",
       "         '👺': 48,\n",
       "         '👾': 81,\n",
       "         '👄': 90,\n",
       "         '✋': 99,\n",
       "         '🔰': 14,\n",
       "         '👞': 17,\n",
       "         '👟': 39,\n",
       "         '👒': 12,\n",
       "         '🎩': 29,\n",
       "         '🎓': 17,\n",
       "         '👓': 21,\n",
       "         '👗': 24,\n",
       "         '👙': 39,\n",
       "         '👠': 39,\n",
       "         '👡': 10,\n",
       "         '👢': 19,\n",
       "         '👜': 10,\n",
       "         '💼': 15,\n",
       "         '🎒': 9,\n",
       "         '👝': 8,\n",
       "         '👛': 14,\n",
       "         '💳': 31,\n",
       "         '💵': 628,\n",
       "         '💴': 40,\n",
       "         '💶': 32,\n",
       "         '💷': 25,\n",
       "         '💱': 7,\n",
       "         '🔫': 123,\n",
       "         '💣': 197,\n",
       "         '💉': 14,\n",
       "         '💊': 14,\n",
       "         '🚬': 27,\n",
       "         '🔔': 32,\n",
       "         '🔕': 9,\n",
       "         '🚪': 57,\n",
       "         '🔬': 24,\n",
       "         '🔭': 8,\n",
       "         '🔮': 37,\n",
       "         '🔦': 8,\n",
       "         '🔋': 11,\n",
       "         '🔌': 14,\n",
       "         '📜': 8,\n",
       "         '📗': 6,\n",
       "         '📘': 11,\n",
       "         '📙': 8,\n",
       "         '📚': 48,\n",
       "         '📔': 7,\n",
       "         '📒': 8,\n",
       "         '📑': 5,\n",
       "         '📓': 7,\n",
       "         '📕': 8,\n",
       "         '📖': 26,\n",
       "         '📰': 9,\n",
       "         '📛': 10,\n",
       "         '🎄': 97,\n",
       "         '🎁': 81,\n",
       "         '🎆': 86,\n",
       "         '🎇': 165,\n",
       "         '🎍': 14,\n",
       "         '🎋': 9,\n",
       "         '📲': 23,\n",
       "         '📟': 9,\n",
       "         '☎': 13,\n",
       "         '📞': 11,\n",
       "         '📠': 8,\n",
       "         '📦': 17,\n",
       "         '✉': 17,\n",
       "         '📨': 9,\n",
       "         '📩': 8,\n",
       "         '📪': 7,\n",
       "         '📫': 8,\n",
       "         '📭': 9,\n",
       "         '📬': 9,\n",
       "         '📮': 7,\n",
       "         '📤': 6,\n",
       "         '📥': 8,\n",
       "         '📯': 6,\n",
       "         '📢': 22,\n",
       "         '📣': 40,\n",
       "         '📡': 12,\n",
       "         '💬': 13,\n",
       "         '💭': 43,\n",
       "         '✒': 18,\n",
       "         '✏': 13,\n",
       "         '📝': 19,\n",
       "         '📏': 17,\n",
       "         '📐': 9,\n",
       "         '📍': 7,\n",
       "         '📌': 10,\n",
       "         '📎': 10,\n",
       "         '✂': 13,\n",
       "         '💺': 5,\n",
       "         '💻': 27,\n",
       "         '💽': 23,\n",
       "         '💾': 8,\n",
       "         '💿': 1031,\n",
       "         '📆': 6,\n",
       "         '📅': 11,\n",
       "         '📇': 8,\n",
       "         '📋': 5,\n",
       "         '📁': 38,\n",
       "         '📂': 25,\n",
       "         '📃': 5,\n",
       "         '📄': 6,\n",
       "         '📊': 6,\n",
       "         '📈': 13,\n",
       "         '📉': 18,\n",
       "         '⛺': 9,\n",
       "         '🎡': 12,\n",
       "         '🎢': 16,\n",
       "         '🎠': 23,\n",
       "         '🎪': 8,\n",
       "         '🎨': 22,\n",
       "         '🎬': 31,\n",
       "         '📷': 22,\n",
       "         '📹': 24,\n",
       "         '🎦': 7,\n",
       "         '🎭': 21,\n",
       "         '🎫': 12,\n",
       "         '🎮': 36,\n",
       "         '🎲': 43,\n",
       "         '🎰': 6,\n",
       "         '🃏': 16,\n",
       "         '🎴': 9,\n",
       "         '🀄': 11,\n",
       "         '🎯': 39,\n",
       "         '📺': 14,\n",
       "         '📻': 10,\n",
       "         '📀': 68,\n",
       "         '📼': 9,\n",
       "         '🎻': 40,\n",
       "         '🎹': 147,\n",
       "         '🎷': 23,\n",
       "         '🎸': 128,\n",
       "         '〽': 8,\n",
       "         '🐕': 108,\n",
       "         '🐶': 325,\n",
       "         '🐩': 40,\n",
       "         '🐱': 103,\n",
       "         '🐀': 12,\n",
       "         '🐁': 9,\n",
       "         '🐭': 13,\n",
       "         '🐹': 12,\n",
       "         '🐢': 380,\n",
       "         '🐓': 129,\n",
       "         '🐔': 21,\n",
       "         '🐣': 71,\n",
       "         '🐤': 37,\n",
       "         '🐥': 104,\n",
       "         '🐦': 70,\n",
       "         '🐏': 32,\n",
       "         '🐑': 117,\n",
       "         '🐺': 303,\n",
       "         '🐃': 14,\n",
       "         '🐄': 29,\n",
       "         '🐮': 13,\n",
       "         '🐴': 24,\n",
       "         '🐗': 9,\n",
       "         '🐖': 29,\n",
       "         '🐷': 38,\n",
       "         '🐽': 23,\n",
       "         '🐍': 1143,\n",
       "         '🐧': 30,\n",
       "         '🐨': 23,\n",
       "         '🐒': 36,\n",
       "         '🐵': 20,\n",
       "         '🐆': 12,\n",
       "         '🐯': 20,\n",
       "         '🐻': 128,\n",
       "         '🐫': 111,\n",
       "         '🐪': 9,\n",
       "         '🐳': 24,\n",
       "         '🐋': 15,\n",
       "         '🐟': 57,\n",
       "         '🐠': 21,\n",
       "         '🐡': 15,\n",
       "         '🐙': 31,\n",
       "         '🐚': 12,\n",
       "         '🐬': 22,\n",
       "         '🐌': 10,\n",
       "         '🐛': 24,\n",
       "         '🐜': 48,\n",
       "         '🐝': 261,\n",
       "         '🐞': 23,\n",
       "         '🐲': 28,\n",
       "         '🐉': 30,\n",
       "         '🐾': 103,\n",
       "         '🍸': 146,\n",
       "         '🍺': 69,\n",
       "         '🍻': 83,\n",
       "         '🍷': 80,\n",
       "         '🏡': 25,\n",
       "         '💍': 80,\n",
       "         '🤓': 176,\n",
       "         '🦀': 12,\n",
       "         '🕷': 35,\n",
       "         '🍨': 24,\n",
       "         '⛳': 12,\n",
       "         '🤤': 389,\n",
       "         '🎾': 18,\n",
       "         '🍯': 25,\n",
       "         '⛪': 21,\n",
       "         '🆘': 15,\n",
       "         '🦎': 11,\n",
       "         '🦁': 26,\n",
       "         '🐎': 24,\n",
       "         '🐅': 10,\n",
       "         '🌔': 6,\n",
       "         '🌚': 66,\n",
       "         '🌝': 32,\n",
       "         '🌛': 21,\n",
       "         '💫': 107,\n",
       "         '🌜': 6,\n",
       "         '🌓': 5,\n",
       "         '🌒': 9,\n",
       "         '🌑': 14,\n",
       "         '🌗': 5,\n",
       "         '🌍': 1810,\n",
       "         '🌕': 40,\n",
       "         '🌖': 5,\n",
       "         '🚤': 8,\n",
       "         '🚝': 6,\n",
       "         '🚡': 7,\n",
       "         '🏝': 6,\n",
       "         '🛤': 4,\n",
       "         '🌌': 70,\n",
       "         '🌠': 41,\n",
       "         '⛰': 3,\n",
       "         '🌁': 6,\n",
       "         '🌆': 7,\n",
       "         '🗼': 15,\n",
       "         '🗽': 20,\n",
       "         '🏗': 10,\n",
       "         '🏟': 8,\n",
       "         '🏯': 7,\n",
       "         '🏰': 5,\n",
       "         '🏘': 4,\n",
       "         '🚢': 11,\n",
       "         '🕌': 6,\n",
       "         '🕋': 16,\n",
       "         '🏢': 9,\n",
       "         '⛩': 4,\n",
       "         '🏬': 8,\n",
       "         '🏛': 4,\n",
       "         '🏨': 6,\n",
       "         '🏪': 5,\n",
       "         '🏣': 6,\n",
       "         '🖥': 12,\n",
       "         '⌨': 4,\n",
       "         '🕰': 6,\n",
       "         '⏱': 4,\n",
       "         '⚒': 2,\n",
       "         '🔝': 143,\n",
       "         '🔜': 18,\n",
       "         '🤥': 50,\n",
       "         '🕺': 74,\n",
       "         '🔐': 25,\n",
       "         '🌺': 81,\n",
       "         '🌸': 185,\n",
       "         '🤧': 109,\n",
       "         '💥': 344,\n",
       "         '🤙': 147,\n",
       "         '💐': 88,\n",
       "         '♓': 7,\n",
       "         '♣': 12,\n",
       "         '🖐': 29,\n",
       "         '🤐': 61,\n",
       "         '🔨': 12,\n",
       "         '🤚': 22,\n",
       "         '🍼': 52,\n",
       "         '🔴': 824,\n",
       "         '🔵': 759,\n",
       "         '🅾': 19,\n",
       "         '☑': 10,\n",
       "         '🍣': 23,\n",
       "         '🍉': 97,\n",
       "         '🌵': 26,\n",
       "         '❌': 60,\n",
       "         '🍕': 258,\n",
       "         '🤨': 2,\n",
       "         '🤹': 7,\n",
       "         '↙': 12,\n",
       "         '©': 18,\n",
       "         '🍾': 101,\n",
       "         '⚰': 28,\n",
       "         '🏆': 121,\n",
       "         '🍝': 26,\n",
       "         '🍔': 418,\n",
       "         '🍴': 16,\n",
       "         '📿': 14,\n",
       "         '🌋': 42,\n",
       "         '🌈': 359,\n",
       "         '⚡': 133,\n",
       "         '🤞': 69,\n",
       "         '®': 39,\n",
       "         '🦋': 48,\n",
       "         '🍰': 73,\n",
       "         '🔊': 56,\n",
       "         '🌶': 28,\n",
       "         '☄': 27,\n",
       "         '🥗': 6,\n",
       "         '🍜': 59,\n",
       "         '🍱': 16,\n",
       "         '🥙': 6,\n",
       "         '🍖': 48,\n",
       "         '🍗': 327,\n",
       "         '🍪': 59,\n",
       "         '🍩': 61,\n",
       "         '☠': 156,\n",
       "         '☮': 17,\n",
       "         '🤕': 32,\n",
       "         '⭐': 198,\n",
       "         '🔒': 18,\n",
       "         '🥁': 23,\n",
       "         '💤': 31,\n",
       "         '🍁': 223,\n",
       "         '🦑': 11,\n",
       "         '🌙': 41,\n",
       "         '➡': 66,\n",
       "         '🥊': 15,\n",
       "         '🏃': 49,\n",
       "         '☕': 75,\n",
       "         '🚙': 14,\n",
       "         '🏋': 13,\n",
       "         '🖖': 27,\n",
       "         '♋': 12,\n",
       "         '🗣': 64,\n",
       "         '🤝': 17,\n",
       "         '🍚': 29,\n",
       "         '🏍': 9,\n",
       "         '🍑': 127,\n",
       "         '🥂': 33,\n",
       "         '🥑': 7,\n",
       "         '📸': 8,\n",
       "         '⛵': 12,\n",
       "         '🦅': 20,\n",
       "         '🚮': 40,\n",
       "         '🦆': 41,\n",
       "         '✅': 115,\n",
       "         '🛒': 5,\n",
       "         '🕵': 25,\n",
       "         '🔑': 28,\n",
       "         '🔉': 12,\n",
       "         '🍀': 35,\n",
       "         '🌷': 73,\n",
       "         '⁉': 21,\n",
       "         '✈': 42,\n",
       "         '⏫': 4,\n",
       "         '⚔': 7,\n",
       "         '🍂': 354,\n",
       "         '🦉': 7,\n",
       "         '🍃': 59,\n",
       "         '♍': 8,\n",
       "         '🏳': 55,\n",
       "         '🖱': 6,\n",
       "         '✴': 23,\n",
       "         '⛲': 9,\n",
       "         '✡': 4,\n",
       "         '🤸': 55,\n",
       "         '🍟': 43,\n",
       "         '👁': 83,\n",
       "         '🌼': 108,\n",
       "         '⬆': 32,\n",
       "         '💹': 3,\n",
       "         '▶': 44,\n",
       "         '🦇': 15,\n",
       "         '🕊': 33,\n",
       "         '☀': 57,\n",
       "         '🏅': 41,\n",
       "         '🎖': 10,\n",
       "         '🥇': 41,\n",
       "         '🥈': 7,\n",
       "         '🥉': 8,\n",
       "         '🍍': 165,\n",
       "         '🍳': 28,\n",
       "         '🍤': 19,\n",
       "         '🌇': 8,\n",
       "         '💮': 8,\n",
       "         '💲': 106,\n",
       "         '🍧': 17,\n",
       "         '🌐': 20,\n",
       "         '🥋': 7,\n",
       "         '〰': 290,\n",
       "         '🔞': 16,\n",
       "         '🎗': 12,\n",
       "         '🔆': 11,\n",
       "         '💢': 13,\n",
       "         '🚽': 25,\n",
       "         '🚨': 176,\n",
       "         '🍿': 43,\n",
       "         '📽': 11,\n",
       "         '💈': 7,\n",
       "         '🦌': 10,\n",
       "         '🦊': 10,\n",
       "         '🌾': 17,\n",
       "         '🐿': 8,\n",
       "         '☔': 7,\n",
       "         '🖊': 4,\n",
       "         '🌤': 11,\n",
       "         '⛅': 10,\n",
       "         '☃': 32,\n",
       "         '🕸': 10,\n",
       "         '↗': 14,\n",
       "         '🔽': 11,\n",
       "         '🥛': 14,\n",
       "         '🍋': 26,\n",
       "         '🖼': 4,\n",
       "         '🤛': 33,\n",
       "         '🗺': 21,\n",
       "         '🌄': 8,\n",
       "         '🌱': 19,\n",
       "         '⚓': 16,\n",
       "         '♦': 15,\n",
       "         '🗑': 11,\n",
       "         '🔙': 9,\n",
       "         '🤖': 27,\n",
       "         '🍬': 91,\n",
       "         '⛸': 11,\n",
       "         '⭕': 22,\n",
       "         '🍊': 43,\n",
       "         '🚲': 12,\n",
       "         '⚽': 76,\n",
       "         '◀': 20,\n",
       "         '☢': 7,\n",
       "         '🥔': 17,\n",
       "         '🗻': 5,\n",
       "         '💒': 14,\n",
       "         '☘': 8,\n",
       "         '💡': 19,\n",
       "         'ℹ': 6,\n",
       "         '🥒': 8,\n",
       "         '🍇': 77,\n",
       "         '🍒': 51,\n",
       "         '🍈': 25,\n",
       "         '🍐': 36,\n",
       "         '🍶': 29,\n",
       "         '🍅': 25,\n",
       "         '🔓': 9,\n",
       "         '⤵': 7,\n",
       "         '🍹': 29,\n",
       "         '🍄': 19,\n",
       "         '♠': 7,\n",
       "         '🤵': 9,\n",
       "         '⚫': 8,\n",
       "         '🗝': 6,\n",
       "         '🅿': 13,\n",
       "         '📧': 7,\n",
       "         '🏵': 8,\n",
       "         '🔅': 14,\n",
       "         '⛑': 26,\n",
       "         '🤒': 27,\n",
       "         '⬅': 15,\n",
       "         '🌏': 55,\n",
       "         '♊': 7,\n",
       "         '🈴': 9,\n",
       "         '🈯': 7,\n",
       "         '🈶': 7,\n",
       "         '🈳': 10,\n",
       "         '🌃': 13,\n",
       "         '🚾': 14,\n",
       "         '⏪': 4,\n",
       "         '❓': 24,\n",
       "         '♏': 13,\n",
       "         '♈': 8,\n",
       "         '♉': 6,\n",
       "         '♌': 7,\n",
       "         '♎': 18,\n",
       "         '♐': 8,\n",
       "         '♑': 9,\n",
       "         '♒': 6,\n",
       "         '🤜': 29,\n",
       "         '🚓': 7,\n",
       "         '🧀': 28,\n",
       "         '🍥': 22,\n",
       "         '⏰': 12,\n",
       "         '⛏': 4,\n",
       "         '🗡': 19,\n",
       "         '⛱': 5,\n",
       "         '✝': 146,\n",
       "         '🕯': 8,\n",
       "         '🕶': 18,\n",
       "         '🚇': 7,\n",
       "         '🔇': 6,\n",
       "         '🎛': 4,\n",
       "         '🎚': 4,\n",
       "         '🗯': 9,\n",
       "         '🏁': 18,\n",
       "         '💠': 8,\n",
       "         '🎙': 12,\n",
       "         '⏮': 3,\n",
       "         '🕴': 37,\n",
       "         '▪': 8,\n",
       "         '🥓': 12,\n",
       "         '🔼': 11,\n",
       "         '✍': 9,\n",
       "         '🤰': 14,\n",
       "         '🚋': 10,\n",
       "         '⛽': 7,\n",
       "         '♻': 8,\n",
       "         '🔱': 16,\n",
       "         '🍵': 23,\n",
       "         '🍮': 15,\n",
       "         '⬛': 141,\n",
       "         '⬜': 142,\n",
       "         '🔷': 103,\n",
       "         '🔶': 103,\n",
       "         '⚱': 7,\n",
       "         '🔍': 9,\n",
       "         '🎣': 15,\n",
       "         '🏄': 25,\n",
       "         '🦃': 13,\n",
       "         '🍌': 35,\n",
       "         '🏐': 33,\n",
       "         '▫': 6,\n",
       "         '🚶': 14,\n",
       "         '🥐': 10,\n",
       "         '❕': 26,\n",
       "         '📵': 7,\n",
       "         '🍠': 13,\n",
       "         '🍞': 18,\n",
       "         '🍢': 16,\n",
       "         '🍡': 43,\n",
       "         '⚾': 22,\n",
       "         '🏉': 41,\n",
       "         '🏌': 7,\n",
       "         '🏒': 7,\n",
       "         '⛷': 5,\n",
       "         '🏂': 9,\n",
       "         '🏏': 5,\n",
       "         '🏸': 9,\n",
       "         '🎱': 57,\n",
       "         '🏓': 22,\n",
       "         '🤳': 8,\n",
       "         '🔻': 19,\n",
       "         '🔀': 7,\n",
       "         '⏩': 8,\n",
       "         '↘': 8,\n",
       "         '⏬': 4,\n",
       "         '🔺': 13,\n",
       "         '☁': 87,\n",
       "         '🏜': 6,\n",
       "         '🌅': 13,\n",
       "         '🌿': 27,\n",
       "         '⚪': 8,\n",
       "         '🌧': 11,\n",
       "         '🏞': 6,\n",
       "         '🏊': 16,\n",
       "         '🛐': 13,\n",
       "         '🥝': 10,\n",
       "         '🗨': 6,\n",
       "         '⚖': 12,\n",
       "         '🤶': 6,\n",
       "         '🌰': 49,\n",
       "         '🍲': 12,\n",
       "         '🍛': 21,\n",
       "         '🏹': 7,\n",
       "         '🛌': 14,\n",
       "         '🛏': 7,\n",
       "         '🛋': 6,\n",
       "         '🚿': 7,\n",
       "         '🛀': 11,\n",
       "         '🕐': 6,\n",
       "         '🚴': 9,\n",
       "         '🌩': 61,\n",
       "         '🌥': 4,\n",
       "         '🌫': 4,\n",
       "         '🥃': 13,\n",
       "         '🤬': 1,\n",
       "         '🚎': 4,\n",
       "         '🏫': 17,\n",
       "         '🚈': 5,\n",
       "         '🚍': 5,\n",
       "         '🥘': 14,\n",
       "         '🥄': 6,\n",
       "         '🥕': 9,\n",
       "         '⛄': 8,\n",
       "         '🌡': 7,\n",
       "         '🏺': 5,\n",
       "         '🛎': 12,\n",
       "         '🚰': 11,\n",
       "         '⛓': 4,\n",
       "         '🚗': 13,\n",
       "         '♿': 6,\n",
       "         '🅰': 28,\n",
       "         '🛰': 6,\n",
       "         '🔯': 49,\n",
       "         '⛎': 6,\n",
       "         '⚜': 18,\n",
       "         '⚕': 8,\n",
       "         '✳': 14,\n",
       "         '❔': 4,\n",
       "         '❇': 18,\n",
       "         '🚯': 7,\n",
       "         '🚼': 16,\n",
       "         '🚺': 10,\n",
       "         '🚻': 12,\n",
       "         '❎': 5,\n",
       "         '🈁': 7,\n",
       "         '📶': 5,\n",
       "         '↪': 10,\n",
       "         '↔': 5,\n",
       "         '🔛': 17,\n",
       "         '✖': 17,\n",
       "         '➰': 14,\n",
       "         '◾': 4,\n",
       "         '🔘': 6,\n",
       "         '🔲': 4,\n",
       "         '🕖': 5,\n",
       "         '🕕': 6,\n",
       "         '🕓': 7,\n",
       "         '🕛': 7,\n",
       "         '🕤': 7,\n",
       "         '🕞': 5,\n",
       "         '🏴': 15,\n",
       "         '🎌': 5,\n",
       "         '🖋': 7,\n",
       "         '🖇': 3,\n",
       "         '🖌': 3,\n",
       "         '🔎': 6,\n",
       "         '🔏': 4,\n",
       "         '🖍': 7,\n",
       "         '☪': 4,\n",
       "         '🎳': 21,\n",
       "         '🚌': 5,\n",
       "         '🚠': 7,\n",
       "         '🛴': 12,\n",
       "         '🚜': 4,\n",
       "         '🍽': 8,\n",
       "         '🌨': 16,\n",
       "         '🏠': 28,\n",
       "         '🚐': 4,\n",
       "         '🕢': 5,\n",
       "         '🕥': 5,\n",
       "         '☂': 3,\n",
       "         '🥖': 10,\n",
       "         '🥞': 9,\n",
       "         '🍘': 7,\n",
       "         '🌂': 5,\n",
       "         '🦐': 7,\n",
       "         '🦈': 10,\n",
       "         '🦂': 6,\n",
       "         '🦏': 4,\n",
       "         '🦍': 4,\n",
       "         '🤺': 3,\n",
       "         '⛹': 10,\n",
       "         '🤽': 8,\n",
       "         '🤼': 8,\n",
       "         '🤾': 6,\n",
       "         '🚵': 11,\n",
       "         '🏇': 5,\n",
       "         '🎽': 4,\n",
       "         '🎟': 38,\n",
       "         '🛵': 4,\n",
       "         '🚘': 12,\n",
       "         '🚃': 4,\n",
       "         '🚅': 5,\n",
       "         '🚊': 5,\n",
       "         '🛫': 4,\n",
       "         '🛬': 4,\n",
       "         '🚉': 4,\n",
       "         '🚖': 4,\n",
       "         '🚞': 8,\n",
       "         '🚁': 6,\n",
       "         '🛩': 3,\n",
       "         '🚆': 6,\n",
       "         '🚟': 4,\n",
       "         '🚄': 4,\n",
       "         '🛳': 4,\n",
       "         '🛥': 5,\n",
       "         '🛶': 3,\n",
       "         '⛴': 5,\n",
       "         '🕳': 3,\n",
       "         '🥚': 5,\n",
       "         '🍙': 10,\n",
       "         '🥅': 4,\n",
       "         '🏑': 3,\n",
       "         '🛍': 9,\n",
       "         '🎑': 5,\n",
       "         '🌉': 10,\n",
       "         '🗾': 6,\n",
       "         '🛁': 6,\n",
       "         '🛠': 7,\n",
       "         '🔩': 15,\n",
       "         '♾': 1,\n",
       "         '🉐': 7,\n",
       "         '🈵': 6,\n",
       "         '🔈': 7,\n",
       "         '⏳': 7,\n",
       "         '⌛': 7,\n",
       "         '➕': 14,\n",
       "         '🕍': 4,\n",
       "         '🤩': 7,\n",
       "         '⤴': 7,\n",
       "         '☯': 16,\n",
       "         '📳': 5,\n",
       "         '🌘': 4,\n",
       "         '🏤': 4,\n",
       "         '🏥': 6,\n",
       "         '🏦': 5,\n",
       "         '🏧': 4,\n",
       "         '🏩': 6,\n",
       "         '🏭': 12,\n",
       "         '🗿': 5,\n",
       "         '🔧': 13,\n",
       "         '🎿': 5,\n",
       "         'Ⓜ': 4,\n",
       "         '🚏': 3,\n",
       "         '🚕': 3,\n",
       "         '🚚': 4,\n",
       "         '🚛': 4,\n",
       "         '🛂': 4,\n",
       "         '🛃': 4,\n",
       "         '🛄': 7,\n",
       "         '🛅': 5,\n",
       "         '🚳': 6,\n",
       "         '🚷': 6,\n",
       "         '🚸': 5,\n",
       "         '🚥': 5,\n",
       "         '🚦': 5,\n",
       "         '🚧': 4,\n",
       "         '🔚': 4,\n",
       "         '🚱': 6,\n",
       "         '🆎': 5,\n",
       "         '🔠': 5,\n",
       "         '🔡': 5,\n",
       "         '🔢': 5,\n",
       "         '🔣': 5,\n",
       "         '🔤': 5,\n",
       "         '➿': 4,\n",
       "         '📴': 3,\n",
       "         '🚹': 7,\n",
       "         '🚭': 6,\n",
       "         '⛔': 11,\n",
       "         '🆗': 5,\n",
       "         ...})"
      ]
     },
     "execution_count": 40,
     "metadata": {},
     "output_type": "execute_result"
    }
   ],
   "source": [
    "## displaying the Dict of emoji_list\n",
    "\n",
    "Counter(emoji_list)"
   ]
  },
  {
   "cell_type": "code",
   "execution_count": 41,
   "id": "d741b553",
   "metadata": {},
   "outputs": [
    {
     "data": {
      "text/plain": [
       "[('😂', 36987),\n",
       " ('😍', 33453),\n",
       " ('❤', 31119),\n",
       " ('🔥', 8694),\n",
       " ('😭', 8398),\n",
       " ('👏', 5719),\n",
       " ('😘', 5545),\n",
       " ('👍', 5476),\n",
       " ('💖', 5359),\n",
       " ('💕', 5147)]"
      ]
     },
     "execution_count": 41,
     "metadata": {},
     "output_type": "execute_result"
    }
   ],
   "source": [
    "## display most common emoji_list\n",
    "\n",
    "Counter(emoji_list).most_common(10)"
   ]
  },
  {
   "cell_type": "code",
   "execution_count": 43,
   "id": "c5429e2b",
   "metadata": {},
   "outputs": [
    {
     "data": {
      "text/plain": [
       "'😂'"
      ]
     },
     "execution_count": 43,
     "metadata": {},
     "output_type": "execute_result"
    }
   ],
   "source": [
    "#first index of emoji.\n",
    "Counter(emoji_list).most_common(10)[0][0]"
   ]
  },
  {
   "cell_type": "code",
   "execution_count": 44,
   "id": "30cdf4ae",
   "metadata": {},
   "outputs": [
    {
     "data": {
      "text/plain": [
       "'😍'"
      ]
     },
     "execution_count": 44,
     "metadata": {},
     "output_type": "execute_result"
    }
   ],
   "source": [
    "#second index of emoji.\n",
    "Counter(emoji_list).most_common(10)[1][0]"
   ]
  },
  {
   "cell_type": "code",
   "execution_count": 45,
   "id": "7e24ed8b",
   "metadata": {
    "run_control": {
     "marked": false
    }
   },
   "outputs": [
    {
     "data": {
      "text/plain": [
       "['😂', '😍', '❤', '🔥', '😭', '👏', '😘', '👍', '💖', '💕']"
      ]
     },
     "execution_count": 45,
     "metadata": {},
     "output_type": "execute_result"
    }
   ],
   "source": [
    "#comprehensive list of emoji's\n",
    "\n",
    "emojis = [Counter(emoji_list).most_common(10)[i][0] for i in range(10)]\n",
    "emojis"
   ]
  },
  {
   "cell_type": "code",
   "execution_count": 46,
   "id": "8c1fe2f8",
   "metadata": {},
   "outputs": [
    {
     "data": {
      "text/plain": [
       "[36987, 33453, 31119, 8694, 8398, 5719, 5545, 5476, 5359, 5147]"
      ]
     },
     "execution_count": 46,
     "metadata": {},
     "output_type": "execute_result"
    }
   ],
   "source": [
    "#comprehensive list of frequencies\n",
    "freqs = [Counter(emoji_list).most_common(10)[i][1] for i in range(10)]\n",
    "freqs"
   ]
  },
  {
   "cell_type": "markdown",
   "id": "644dfe17",
   "metadata": {
    "run_control": {
     "marked": true
    }
   },
   "source": [
    "#### plot the emoji analysis"
   ]
  },
  {
   "cell_type": "code",
   "execution_count": 47,
   "id": "fdb328fe",
   "metadata": {},
   "outputs": [],
   "source": [
    "import plotly.graph_objs as go"
   ]
  },
  {
   "cell_type": "code",
   "execution_count": 48,
   "id": "5a5edf3d",
   "metadata": {},
   "outputs": [],
   "source": [
    "from plotly.offline import iplot"
   ]
  },
  {
   "cell_type": "code",
   "execution_count": 49,
   "id": "c7cbf488",
   "metadata": {},
   "outputs": [],
   "source": [
    "trace = go.Bar(x=emojis,y=freqs)"
   ]
  },
  {
   "cell_type": "code",
   "execution_count": 50,
   "id": "30d01e44",
   "metadata": {},
   "outputs": [
    {
     "data": {
      "application/vnd.plotly.v1+json": {
       "config": {
        "linkText": "Export to plot.ly",
        "plotlyServerURL": "https://plot.ly",
        "showLink": false
       },
       "data": [
        {
         "type": "bar",
         "x": [
          "😂",
          "😍",
          "❤",
          "🔥",
          "😭",
          "👏",
          "😘",
          "👍",
          "💖",
          "💕"
         ],
         "y": [
          36987,
          33453,
          31119,
          8694,
          8398,
          5719,
          5545,
          5476,
          5359,
          5147
         ]
        }
       ],
       "layout": {
        "template": {
         "data": {
          "bar": [
           {
            "error_x": {
             "color": "#2a3f5f"
            },
            "error_y": {
             "color": "#2a3f5f"
            },
            "marker": {
             "line": {
              "color": "#E5ECF6",
              "width": 0.5
             },
             "pattern": {
              "fillmode": "overlay",
              "size": 10,
              "solidity": 0.2
             }
            },
            "type": "bar"
           }
          ],
          "barpolar": [
           {
            "marker": {
             "line": {
              "color": "#E5ECF6",
              "width": 0.5
             },
             "pattern": {
              "fillmode": "overlay",
              "size": 10,
              "solidity": 0.2
             }
            },
            "type": "barpolar"
           }
          ],
          "carpet": [
           {
            "aaxis": {
             "endlinecolor": "#2a3f5f",
             "gridcolor": "white",
             "linecolor": "white",
             "minorgridcolor": "white",
             "startlinecolor": "#2a3f5f"
            },
            "baxis": {
             "endlinecolor": "#2a3f5f",
             "gridcolor": "white",
             "linecolor": "white",
             "minorgridcolor": "white",
             "startlinecolor": "#2a3f5f"
            },
            "type": "carpet"
           }
          ],
          "choropleth": [
           {
            "colorbar": {
             "outlinewidth": 0,
             "ticks": ""
            },
            "type": "choropleth"
           }
          ],
          "contour": [
           {
            "colorbar": {
             "outlinewidth": 0,
             "ticks": ""
            },
            "colorscale": [
             [
              0,
              "#0d0887"
             ],
             [
              0.1111111111111111,
              "#46039f"
             ],
             [
              0.2222222222222222,
              "#7201a8"
             ],
             [
              0.3333333333333333,
              "#9c179e"
             ],
             [
              0.4444444444444444,
              "#bd3786"
             ],
             [
              0.5555555555555556,
              "#d8576b"
             ],
             [
              0.6666666666666666,
              "#ed7953"
             ],
             [
              0.7777777777777778,
              "#fb9f3a"
             ],
             [
              0.8888888888888888,
              "#fdca26"
             ],
             [
              1,
              "#f0f921"
             ]
            ],
            "type": "contour"
           }
          ],
          "contourcarpet": [
           {
            "colorbar": {
             "outlinewidth": 0,
             "ticks": ""
            },
            "type": "contourcarpet"
           }
          ],
          "heatmap": [
           {
            "colorbar": {
             "outlinewidth": 0,
             "ticks": ""
            },
            "colorscale": [
             [
              0,
              "#0d0887"
             ],
             [
              0.1111111111111111,
              "#46039f"
             ],
             [
              0.2222222222222222,
              "#7201a8"
             ],
             [
              0.3333333333333333,
              "#9c179e"
             ],
             [
              0.4444444444444444,
              "#bd3786"
             ],
             [
              0.5555555555555556,
              "#d8576b"
             ],
             [
              0.6666666666666666,
              "#ed7953"
             ],
             [
              0.7777777777777778,
              "#fb9f3a"
             ],
             [
              0.8888888888888888,
              "#fdca26"
             ],
             [
              1,
              "#f0f921"
             ]
            ],
            "type": "heatmap"
           }
          ],
          "heatmapgl": [
           {
            "colorbar": {
             "outlinewidth": 0,
             "ticks": ""
            },
            "colorscale": [
             [
              0,
              "#0d0887"
             ],
             [
              0.1111111111111111,
              "#46039f"
             ],
             [
              0.2222222222222222,
              "#7201a8"
             ],
             [
              0.3333333333333333,
              "#9c179e"
             ],
             [
              0.4444444444444444,
              "#bd3786"
             ],
             [
              0.5555555555555556,
              "#d8576b"
             ],
             [
              0.6666666666666666,
              "#ed7953"
             ],
             [
              0.7777777777777778,
              "#fb9f3a"
             ],
             [
              0.8888888888888888,
              "#fdca26"
             ],
             [
              1,
              "#f0f921"
             ]
            ],
            "type": "heatmapgl"
           }
          ],
          "histogram": [
           {
            "marker": {
             "pattern": {
              "fillmode": "overlay",
              "size": 10,
              "solidity": 0.2
             }
            },
            "type": "histogram"
           }
          ],
          "histogram2d": [
           {
            "colorbar": {
             "outlinewidth": 0,
             "ticks": ""
            },
            "colorscale": [
             [
              0,
              "#0d0887"
             ],
             [
              0.1111111111111111,
              "#46039f"
             ],
             [
              0.2222222222222222,
              "#7201a8"
             ],
             [
              0.3333333333333333,
              "#9c179e"
             ],
             [
              0.4444444444444444,
              "#bd3786"
             ],
             [
              0.5555555555555556,
              "#d8576b"
             ],
             [
              0.6666666666666666,
              "#ed7953"
             ],
             [
              0.7777777777777778,
              "#fb9f3a"
             ],
             [
              0.8888888888888888,
              "#fdca26"
             ],
             [
              1,
              "#f0f921"
             ]
            ],
            "type": "histogram2d"
           }
          ],
          "histogram2dcontour": [
           {
            "colorbar": {
             "outlinewidth": 0,
             "ticks": ""
            },
            "colorscale": [
             [
              0,
              "#0d0887"
             ],
             [
              0.1111111111111111,
              "#46039f"
             ],
             [
              0.2222222222222222,
              "#7201a8"
             ],
             [
              0.3333333333333333,
              "#9c179e"
             ],
             [
              0.4444444444444444,
              "#bd3786"
             ],
             [
              0.5555555555555556,
              "#d8576b"
             ],
             [
              0.6666666666666666,
              "#ed7953"
             ],
             [
              0.7777777777777778,
              "#fb9f3a"
             ],
             [
              0.8888888888888888,
              "#fdca26"
             ],
             [
              1,
              "#f0f921"
             ]
            ],
            "type": "histogram2dcontour"
           }
          ],
          "mesh3d": [
           {
            "colorbar": {
             "outlinewidth": 0,
             "ticks": ""
            },
            "type": "mesh3d"
           }
          ],
          "parcoords": [
           {
            "line": {
             "colorbar": {
              "outlinewidth": 0,
              "ticks": ""
             }
            },
            "type": "parcoords"
           }
          ],
          "pie": [
           {
            "automargin": true,
            "type": "pie"
           }
          ],
          "scatter": [
           {
            "marker": {
             "colorbar": {
              "outlinewidth": 0,
              "ticks": ""
             }
            },
            "type": "scatter"
           }
          ],
          "scatter3d": [
           {
            "line": {
             "colorbar": {
              "outlinewidth": 0,
              "ticks": ""
             }
            },
            "marker": {
             "colorbar": {
              "outlinewidth": 0,
              "ticks": ""
             }
            },
            "type": "scatter3d"
           }
          ],
          "scattercarpet": [
           {
            "marker": {
             "colorbar": {
              "outlinewidth": 0,
              "ticks": ""
             }
            },
            "type": "scattercarpet"
           }
          ],
          "scattergeo": [
           {
            "marker": {
             "colorbar": {
              "outlinewidth": 0,
              "ticks": ""
             }
            },
            "type": "scattergeo"
           }
          ],
          "scattergl": [
           {
            "marker": {
             "colorbar": {
              "outlinewidth": 0,
              "ticks": ""
             }
            },
            "type": "scattergl"
           }
          ],
          "scattermapbox": [
           {
            "marker": {
             "colorbar": {
              "outlinewidth": 0,
              "ticks": ""
             }
            },
            "type": "scattermapbox"
           }
          ],
          "scatterpolar": [
           {
            "marker": {
             "colorbar": {
              "outlinewidth": 0,
              "ticks": ""
             }
            },
            "type": "scatterpolar"
           }
          ],
          "scatterpolargl": [
           {
            "marker": {
             "colorbar": {
              "outlinewidth": 0,
              "ticks": ""
             }
            },
            "type": "scatterpolargl"
           }
          ],
          "scatterternary": [
           {
            "marker": {
             "colorbar": {
              "outlinewidth": 0,
              "ticks": ""
             }
            },
            "type": "scatterternary"
           }
          ],
          "surface": [
           {
            "colorbar": {
             "outlinewidth": 0,
             "ticks": ""
            },
            "colorscale": [
             [
              0,
              "#0d0887"
             ],
             [
              0.1111111111111111,
              "#46039f"
             ],
             [
              0.2222222222222222,
              "#7201a8"
             ],
             [
              0.3333333333333333,
              "#9c179e"
             ],
             [
              0.4444444444444444,
              "#bd3786"
             ],
             [
              0.5555555555555556,
              "#d8576b"
             ],
             [
              0.6666666666666666,
              "#ed7953"
             ],
             [
              0.7777777777777778,
              "#fb9f3a"
             ],
             [
              0.8888888888888888,
              "#fdca26"
             ],
             [
              1,
              "#f0f921"
             ]
            ],
            "type": "surface"
           }
          ],
          "table": [
           {
            "cells": {
             "fill": {
              "color": "#EBF0F8"
             },
             "line": {
              "color": "white"
             }
            },
            "header": {
             "fill": {
              "color": "#C8D4E3"
             },
             "line": {
              "color": "white"
             }
            },
            "type": "table"
           }
          ]
         },
         "layout": {
          "annotationdefaults": {
           "arrowcolor": "#2a3f5f",
           "arrowhead": 0,
           "arrowwidth": 1
          },
          "autotypenumbers": "strict",
          "coloraxis": {
           "colorbar": {
            "outlinewidth": 0,
            "ticks": ""
           }
          },
          "colorscale": {
           "diverging": [
            [
             0,
             "#8e0152"
            ],
            [
             0.1,
             "#c51b7d"
            ],
            [
             0.2,
             "#de77ae"
            ],
            [
             0.3,
             "#f1b6da"
            ],
            [
             0.4,
             "#fde0ef"
            ],
            [
             0.5,
             "#f7f7f7"
            ],
            [
             0.6,
             "#e6f5d0"
            ],
            [
             0.7,
             "#b8e186"
            ],
            [
             0.8,
             "#7fbc41"
            ],
            [
             0.9,
             "#4d9221"
            ],
            [
             1,
             "#276419"
            ]
           ],
           "sequential": [
            [
             0,
             "#0d0887"
            ],
            [
             0.1111111111111111,
             "#46039f"
            ],
            [
             0.2222222222222222,
             "#7201a8"
            ],
            [
             0.3333333333333333,
             "#9c179e"
            ],
            [
             0.4444444444444444,
             "#bd3786"
            ],
            [
             0.5555555555555556,
             "#d8576b"
            ],
            [
             0.6666666666666666,
             "#ed7953"
            ],
            [
             0.7777777777777778,
             "#fb9f3a"
            ],
            [
             0.8888888888888888,
             "#fdca26"
            ],
            [
             1,
             "#f0f921"
            ]
           ],
           "sequentialminus": [
            [
             0,
             "#0d0887"
            ],
            [
             0.1111111111111111,
             "#46039f"
            ],
            [
             0.2222222222222222,
             "#7201a8"
            ],
            [
             0.3333333333333333,
             "#9c179e"
            ],
            [
             0.4444444444444444,
             "#bd3786"
            ],
            [
             0.5555555555555556,
             "#d8576b"
            ],
            [
             0.6666666666666666,
             "#ed7953"
            ],
            [
             0.7777777777777778,
             "#fb9f3a"
            ],
            [
             0.8888888888888888,
             "#fdca26"
            ],
            [
             1,
             "#f0f921"
            ]
           ]
          },
          "colorway": [
           "#636efa",
           "#EF553B",
           "#00cc96",
           "#ab63fa",
           "#FFA15A",
           "#19d3f3",
           "#FF6692",
           "#B6E880",
           "#FF97FF",
           "#FECB52"
          ],
          "font": {
           "color": "#2a3f5f"
          },
          "geo": {
           "bgcolor": "white",
           "lakecolor": "white",
           "landcolor": "#E5ECF6",
           "showlakes": true,
           "showland": true,
           "subunitcolor": "white"
          },
          "hoverlabel": {
           "align": "left"
          },
          "hovermode": "closest",
          "mapbox": {
           "style": "light"
          },
          "paper_bgcolor": "white",
          "plot_bgcolor": "#E5ECF6",
          "polar": {
           "angularaxis": {
            "gridcolor": "white",
            "linecolor": "white",
            "ticks": ""
           },
           "bgcolor": "#E5ECF6",
           "radialaxis": {
            "gridcolor": "white",
            "linecolor": "white",
            "ticks": ""
           }
          },
          "scene": {
           "xaxis": {
            "backgroundcolor": "#E5ECF6",
            "gridcolor": "white",
            "gridwidth": 2,
            "linecolor": "white",
            "showbackground": true,
            "ticks": "",
            "zerolinecolor": "white"
           },
           "yaxis": {
            "backgroundcolor": "#E5ECF6",
            "gridcolor": "white",
            "gridwidth": 2,
            "linecolor": "white",
            "showbackground": true,
            "ticks": "",
            "zerolinecolor": "white"
           },
           "zaxis": {
            "backgroundcolor": "#E5ECF6",
            "gridcolor": "white",
            "gridwidth": 2,
            "linecolor": "white",
            "showbackground": true,
            "ticks": "",
            "zerolinecolor": "white"
           }
          },
          "shapedefaults": {
           "line": {
            "color": "#2a3f5f"
           }
          },
          "ternary": {
           "aaxis": {
            "gridcolor": "white",
            "linecolor": "white",
            "ticks": ""
           },
           "baxis": {
            "gridcolor": "white",
            "linecolor": "white",
            "ticks": ""
           },
           "bgcolor": "#E5ECF6",
           "caxis": {
            "gridcolor": "white",
            "linecolor": "white",
            "ticks": ""
           }
          },
          "title": {
           "x": 0.05
          },
          "xaxis": {
           "automargin": true,
           "gridcolor": "white",
           "linecolor": "white",
           "ticks": "",
           "title": {
            "standoff": 15
           },
           "zerolinecolor": "white",
           "zerolinewidth": 2
          },
          "yaxis": {
           "automargin": true,
           "gridcolor": "white",
           "linecolor": "white",
           "ticks": "",
           "title": {
            "standoff": 15
           },
           "zerolinecolor": "white",
           "zerolinewidth": 2
          }
         }
        }
       }
      },
      "text/html": [
       "<div>                            <div id=\"59b4b089-d4e0-43d8-ad93-12fbfc817375\" class=\"plotly-graph-div\" style=\"height:525px; width:100%;\"></div>            <script type=\"text/javascript\">                require([\"plotly\"], function(Plotly) {                    window.PLOTLYENV=window.PLOTLYENV || {};                                    if (document.getElementById(\"59b4b089-d4e0-43d8-ad93-12fbfc817375\")) {                    Plotly.newPlot(                        \"59b4b089-d4e0-43d8-ad93-12fbfc817375\",                        [{\"x\":[\"\\ud83d\\ude02\",\"\\ud83d\\ude0d\",\"\\u2764\",\"\\ud83d\\udd25\",\"\\ud83d\\ude2d\",\"\\ud83d\\udc4f\",\"\\ud83d\\ude18\",\"\\ud83d\\udc4d\",\"\\ud83d\\udc96\",\"\\ud83d\\udc95\"],\"y\":[36987,33453,31119,8694,8398,5719,5545,5476,5359,5147],\"type\":\"bar\"}],                        {\"template\":{\"data\":{\"barpolar\":[{\"marker\":{\"line\":{\"color\":\"#E5ECF6\",\"width\":0.5},\"pattern\":{\"fillmode\":\"overlay\",\"size\":10,\"solidity\":0.2}},\"type\":\"barpolar\"}],\"bar\":[{\"error_x\":{\"color\":\"#2a3f5f\"},\"error_y\":{\"color\":\"#2a3f5f\"},\"marker\":{\"line\":{\"color\":\"#E5ECF6\",\"width\":0.5},\"pattern\":{\"fillmode\":\"overlay\",\"size\":10,\"solidity\":0.2}},\"type\":\"bar\"}],\"carpet\":[{\"aaxis\":{\"endlinecolor\":\"#2a3f5f\",\"gridcolor\":\"white\",\"linecolor\":\"white\",\"minorgridcolor\":\"white\",\"startlinecolor\":\"#2a3f5f\"},\"baxis\":{\"endlinecolor\":\"#2a3f5f\",\"gridcolor\":\"white\",\"linecolor\":\"white\",\"minorgridcolor\":\"white\",\"startlinecolor\":\"#2a3f5f\"},\"type\":\"carpet\"}],\"choropleth\":[{\"colorbar\":{\"outlinewidth\":0,\"ticks\":\"\"},\"type\":\"choropleth\"}],\"contourcarpet\":[{\"colorbar\":{\"outlinewidth\":0,\"ticks\":\"\"},\"type\":\"contourcarpet\"}],\"contour\":[{\"colorbar\":{\"outlinewidth\":0,\"ticks\":\"\"},\"colorscale\":[[0.0,\"#0d0887\"],[0.1111111111111111,\"#46039f\"],[0.2222222222222222,\"#7201a8\"],[0.3333333333333333,\"#9c179e\"],[0.4444444444444444,\"#bd3786\"],[0.5555555555555556,\"#d8576b\"],[0.6666666666666666,\"#ed7953\"],[0.7777777777777778,\"#fb9f3a\"],[0.8888888888888888,\"#fdca26\"],[1.0,\"#f0f921\"]],\"type\":\"contour\"}],\"heatmapgl\":[{\"colorbar\":{\"outlinewidth\":0,\"ticks\":\"\"},\"colorscale\":[[0.0,\"#0d0887\"],[0.1111111111111111,\"#46039f\"],[0.2222222222222222,\"#7201a8\"],[0.3333333333333333,\"#9c179e\"],[0.4444444444444444,\"#bd3786\"],[0.5555555555555556,\"#d8576b\"],[0.6666666666666666,\"#ed7953\"],[0.7777777777777778,\"#fb9f3a\"],[0.8888888888888888,\"#fdca26\"],[1.0,\"#f0f921\"]],\"type\":\"heatmapgl\"}],\"heatmap\":[{\"colorbar\":{\"outlinewidth\":0,\"ticks\":\"\"},\"colorscale\":[[0.0,\"#0d0887\"],[0.1111111111111111,\"#46039f\"],[0.2222222222222222,\"#7201a8\"],[0.3333333333333333,\"#9c179e\"],[0.4444444444444444,\"#bd3786\"],[0.5555555555555556,\"#d8576b\"],[0.6666666666666666,\"#ed7953\"],[0.7777777777777778,\"#fb9f3a\"],[0.8888888888888888,\"#fdca26\"],[1.0,\"#f0f921\"]],\"type\":\"heatmap\"}],\"histogram2dcontour\":[{\"colorbar\":{\"outlinewidth\":0,\"ticks\":\"\"},\"colorscale\":[[0.0,\"#0d0887\"],[0.1111111111111111,\"#46039f\"],[0.2222222222222222,\"#7201a8\"],[0.3333333333333333,\"#9c179e\"],[0.4444444444444444,\"#bd3786\"],[0.5555555555555556,\"#d8576b\"],[0.6666666666666666,\"#ed7953\"],[0.7777777777777778,\"#fb9f3a\"],[0.8888888888888888,\"#fdca26\"],[1.0,\"#f0f921\"]],\"type\":\"histogram2dcontour\"}],\"histogram2d\":[{\"colorbar\":{\"outlinewidth\":0,\"ticks\":\"\"},\"colorscale\":[[0.0,\"#0d0887\"],[0.1111111111111111,\"#46039f\"],[0.2222222222222222,\"#7201a8\"],[0.3333333333333333,\"#9c179e\"],[0.4444444444444444,\"#bd3786\"],[0.5555555555555556,\"#d8576b\"],[0.6666666666666666,\"#ed7953\"],[0.7777777777777778,\"#fb9f3a\"],[0.8888888888888888,\"#fdca26\"],[1.0,\"#f0f921\"]],\"type\":\"histogram2d\"}],\"histogram\":[{\"marker\":{\"pattern\":{\"fillmode\":\"overlay\",\"size\":10,\"solidity\":0.2}},\"type\":\"histogram\"}],\"mesh3d\":[{\"colorbar\":{\"outlinewidth\":0,\"ticks\":\"\"},\"type\":\"mesh3d\"}],\"parcoords\":[{\"line\":{\"colorbar\":{\"outlinewidth\":0,\"ticks\":\"\"}},\"type\":\"parcoords\"}],\"pie\":[{\"automargin\":true,\"type\":\"pie\"}],\"scatter3d\":[{\"line\":{\"colorbar\":{\"outlinewidth\":0,\"ticks\":\"\"}},\"marker\":{\"colorbar\":{\"outlinewidth\":0,\"ticks\":\"\"}},\"type\":\"scatter3d\"}],\"scattercarpet\":[{\"marker\":{\"colorbar\":{\"outlinewidth\":0,\"ticks\":\"\"}},\"type\":\"scattercarpet\"}],\"scattergeo\":[{\"marker\":{\"colorbar\":{\"outlinewidth\":0,\"ticks\":\"\"}},\"type\":\"scattergeo\"}],\"scattergl\":[{\"marker\":{\"colorbar\":{\"outlinewidth\":0,\"ticks\":\"\"}},\"type\":\"scattergl\"}],\"scattermapbox\":[{\"marker\":{\"colorbar\":{\"outlinewidth\":0,\"ticks\":\"\"}},\"type\":\"scattermapbox\"}],\"scatterpolargl\":[{\"marker\":{\"colorbar\":{\"outlinewidth\":0,\"ticks\":\"\"}},\"type\":\"scatterpolargl\"}],\"scatterpolar\":[{\"marker\":{\"colorbar\":{\"outlinewidth\":0,\"ticks\":\"\"}},\"type\":\"scatterpolar\"}],\"scatter\":[{\"marker\":{\"colorbar\":{\"outlinewidth\":0,\"ticks\":\"\"}},\"type\":\"scatter\"}],\"scatterternary\":[{\"marker\":{\"colorbar\":{\"outlinewidth\":0,\"ticks\":\"\"}},\"type\":\"scatterternary\"}],\"surface\":[{\"colorbar\":{\"outlinewidth\":0,\"ticks\":\"\"},\"colorscale\":[[0.0,\"#0d0887\"],[0.1111111111111111,\"#46039f\"],[0.2222222222222222,\"#7201a8\"],[0.3333333333333333,\"#9c179e\"],[0.4444444444444444,\"#bd3786\"],[0.5555555555555556,\"#d8576b\"],[0.6666666666666666,\"#ed7953\"],[0.7777777777777778,\"#fb9f3a\"],[0.8888888888888888,\"#fdca26\"],[1.0,\"#f0f921\"]],\"type\":\"surface\"}],\"table\":[{\"cells\":{\"fill\":{\"color\":\"#EBF0F8\"},\"line\":{\"color\":\"white\"}},\"header\":{\"fill\":{\"color\":\"#C8D4E3\"},\"line\":{\"color\":\"white\"}},\"type\":\"table\"}]},\"layout\":{\"annotationdefaults\":{\"arrowcolor\":\"#2a3f5f\",\"arrowhead\":0,\"arrowwidth\":1},\"autotypenumbers\":\"strict\",\"coloraxis\":{\"colorbar\":{\"outlinewidth\":0,\"ticks\":\"\"}},\"colorscale\":{\"diverging\":[[0,\"#8e0152\"],[0.1,\"#c51b7d\"],[0.2,\"#de77ae\"],[0.3,\"#f1b6da\"],[0.4,\"#fde0ef\"],[0.5,\"#f7f7f7\"],[0.6,\"#e6f5d0\"],[0.7,\"#b8e186\"],[0.8,\"#7fbc41\"],[0.9,\"#4d9221\"],[1,\"#276419\"]],\"sequential\":[[0.0,\"#0d0887\"],[0.1111111111111111,\"#46039f\"],[0.2222222222222222,\"#7201a8\"],[0.3333333333333333,\"#9c179e\"],[0.4444444444444444,\"#bd3786\"],[0.5555555555555556,\"#d8576b\"],[0.6666666666666666,\"#ed7953\"],[0.7777777777777778,\"#fb9f3a\"],[0.8888888888888888,\"#fdca26\"],[1.0,\"#f0f921\"]],\"sequentialminus\":[[0.0,\"#0d0887\"],[0.1111111111111111,\"#46039f\"],[0.2222222222222222,\"#7201a8\"],[0.3333333333333333,\"#9c179e\"],[0.4444444444444444,\"#bd3786\"],[0.5555555555555556,\"#d8576b\"],[0.6666666666666666,\"#ed7953\"],[0.7777777777777778,\"#fb9f3a\"],[0.8888888888888888,\"#fdca26\"],[1.0,\"#f0f921\"]]},\"colorway\":[\"#636efa\",\"#EF553B\",\"#00cc96\",\"#ab63fa\",\"#FFA15A\",\"#19d3f3\",\"#FF6692\",\"#B6E880\",\"#FF97FF\",\"#FECB52\"],\"font\":{\"color\":\"#2a3f5f\"},\"geo\":{\"bgcolor\":\"white\",\"lakecolor\":\"white\",\"landcolor\":\"#E5ECF6\",\"showlakes\":true,\"showland\":true,\"subunitcolor\":\"white\"},\"hoverlabel\":{\"align\":\"left\"},\"hovermode\":\"closest\",\"mapbox\":{\"style\":\"light\"},\"paper_bgcolor\":\"white\",\"plot_bgcolor\":\"#E5ECF6\",\"polar\":{\"angularaxis\":{\"gridcolor\":\"white\",\"linecolor\":\"white\",\"ticks\":\"\"},\"bgcolor\":\"#E5ECF6\",\"radialaxis\":{\"gridcolor\":\"white\",\"linecolor\":\"white\",\"ticks\":\"\"}},\"scene\":{\"xaxis\":{\"backgroundcolor\":\"#E5ECF6\",\"gridcolor\":\"white\",\"gridwidth\":2,\"linecolor\":\"white\",\"showbackground\":true,\"ticks\":\"\",\"zerolinecolor\":\"white\"},\"yaxis\":{\"backgroundcolor\":\"#E5ECF6\",\"gridcolor\":\"white\",\"gridwidth\":2,\"linecolor\":\"white\",\"showbackground\":true,\"ticks\":\"\",\"zerolinecolor\":\"white\"},\"zaxis\":{\"backgroundcolor\":\"#E5ECF6\",\"gridcolor\":\"white\",\"gridwidth\":2,\"linecolor\":\"white\",\"showbackground\":true,\"ticks\":\"\",\"zerolinecolor\":\"white\"}},\"shapedefaults\":{\"line\":{\"color\":\"#2a3f5f\"}},\"ternary\":{\"aaxis\":{\"gridcolor\":\"white\",\"linecolor\":\"white\",\"ticks\":\"\"},\"baxis\":{\"gridcolor\":\"white\",\"linecolor\":\"white\",\"ticks\":\"\"},\"bgcolor\":\"#E5ECF6\",\"caxis\":{\"gridcolor\":\"white\",\"linecolor\":\"white\",\"ticks\":\"\"}},\"title\":{\"x\":0.05},\"xaxis\":{\"automargin\":true,\"gridcolor\":\"white\",\"linecolor\":\"white\",\"ticks\":\"\",\"title\":{\"standoff\":15},\"zerolinecolor\":\"white\",\"zerolinewidth\":2},\"yaxis\":{\"automargin\":true,\"gridcolor\":\"white\",\"linecolor\":\"white\",\"ticks\":\"\",\"title\":{\"standoff\":15},\"zerolinecolor\":\"white\",\"zerolinewidth\":2}}}},                        {\"responsive\": true}                    ).then(function(){\n",
       "                            \n",
       "var gd = document.getElementById('59b4b089-d4e0-43d8-ad93-12fbfc817375');\n",
       "var x = new MutationObserver(function (mutations, observer) {{\n",
       "        var display = window.getComputedStyle(gd).display;\n",
       "        if (!display || display === 'none') {{\n",
       "            console.log([gd, 'removed!']);\n",
       "            Plotly.purge(gd);\n",
       "            observer.disconnect();\n",
       "        }}\n",
       "}});\n",
       "\n",
       "// Listen for the removal of the full notebook cells\n",
       "var notebookContainer = gd.closest('#notebook-container');\n",
       "if (notebookContainer) {{\n",
       "    x.observe(notebookContainer, {childList: true});\n",
       "}}\n",
       "\n",
       "// Listen for the clearing of the current output cell\n",
       "var outputEl = gd.closest('.output');\n",
       "if (outputEl) {{\n",
       "    x.observe(outputEl, {childList: true});\n",
       "}}\n",
       "\n",
       "                        })                };                });            </script>        </div>"
      ]
     },
     "metadata": {},
     "output_type": "display_data"
    }
   ],
   "source": [
    "iplot([trace])"
   ]
  },
  {
   "cell_type": "markdown",
   "id": "18cca4a4",
   "metadata": {},
   "source": [
    "### Collecting Entire youtube data"
   ]
  },
  {
   "cell_type": "code",
   "execution_count": 182,
   "id": "8ebf5f21",
   "metadata": {},
   "outputs": [],
   "source": [
    "import os"
   ]
  },
  {
   "cell_type": "code",
   "execution_count": 183,
   "id": "76e60d99",
   "metadata": {},
   "outputs": [],
   "source": [
    "path =r'additional_data/'"
   ]
  },
  {
   "cell_type": "code",
   "execution_count": 184,
   "id": "1773248d",
   "metadata": {},
   "outputs": [
    {
     "data": {
      "text/plain": [
       "['CAvideos.csv',\n",
       " 'CA_category_id.json',\n",
       " 'DEvideos.csv',\n",
       " 'DE_category_id.json',\n",
       " 'FRvideos.csv',\n",
       " 'FR_category_id.json',\n",
       " 'GBvideos.csv',\n",
       " 'GB_category_id.json',\n",
       " 'INvideos.csv',\n",
       " 'IN_category_id.json',\n",
       " 'JPvideos.csv',\n",
       " 'JP_category_id.json',\n",
       " 'KRvideos.csv',\n",
       " 'KR_category_id.json',\n",
       " 'MXvideos.csv',\n",
       " 'MX_category_id.json',\n",
       " 'RUvideos.csv',\n",
       " 'RU_category_id.json',\n",
       " 'USvideos.csv',\n",
       " 'US_category_id.json']"
      ]
     },
     "execution_count": 184,
     "metadata": {},
     "output_type": "execute_result"
    }
   ],
   "source": [
    "files = os.listdir(path)\n",
    "files"
   ]
  },
  {
   "cell_type": "markdown",
   "id": "713dc624",
   "metadata": {},
   "source": [
    "####  seperate  Json file and csv"
   ]
  },
  {
   "cell_type": "code",
   "execution_count": 185,
   "id": "7d73dd85",
   "metadata": {},
   "outputs": [
    {
     "name": "stdout",
     "output_type": "stream",
     "text": [
      "1\n",
      "3\n",
      "5\n",
      "7\n",
      "9\n",
      "11\n",
      "13\n",
      "15\n",
      "17\n",
      "19\n"
     ]
    }
   ],
   "source": [
    "## iterating the order of use cases.\n",
    "\n",
    "for i in range(1,len(files), 2):\n",
    "    print(i)"
   ]
  },
  {
   "cell_type": "code",
   "execution_count": 214,
   "id": "91e72b38",
   "metadata": {},
   "outputs": [],
   "source": [
    "#Json file\n",
    "\n",
    "#files_json = [file[i] for i in range(1,len(files), 2)]\n",
    "#files_json"
   ]
  },
  {
   "cell_type": "code",
   "execution_count": 216,
   "id": "e4053b67",
   "metadata": {
    "scrolled": true
   },
   "outputs": [
    {
     "ename": "IndexError",
     "evalue": "string index out of range",
     "output_type": "error",
     "traceback": [
      "\u001b[1;31m---------------------------------------------------------------------------\u001b[0m",
      "\u001b[1;31mIndexError\u001b[0m                                Traceback (most recent call last)",
      "\u001b[1;32mC:\\Users\\SHEDDY~1\\AppData\\Local\\Temp/ipykernel_11028/1675021842.py\u001b[0m in \u001b[0;36m<module>\u001b[1;34m\u001b[0m\n\u001b[0;32m      1\u001b[0m \u001b[1;31m#csv file\u001b[0m\u001b[1;33m\u001b[0m\u001b[1;33m\u001b[0m\u001b[0m\n\u001b[1;32m----> 2\u001b[1;33m \u001b[0mfiles_csv\u001b[0m \u001b[1;33m=\u001b[0m \u001b[1;33m[\u001b[0m\u001b[0mfile\u001b[0m\u001b[1;33m[\u001b[0m\u001b[0mi\u001b[0m\u001b[1;33m]\u001b[0m \u001b[1;32mfor\u001b[0m \u001b[0mi\u001b[0m \u001b[1;32min\u001b[0m \u001b[0mrange\u001b[0m\u001b[1;33m(\u001b[0m\u001b[1;36m0\u001b[0m\u001b[1;33m,\u001b[0m\u001b[0mlen\u001b[0m\u001b[1;33m(\u001b[0m\u001b[0mfiles\u001b[0m\u001b[1;33m)\u001b[0m\u001b[1;33m,\u001b[0m \u001b[1;36m2\u001b[0m\u001b[1;33m)\u001b[0m\u001b[1;33m]\u001b[0m\u001b[1;33m\u001b[0m\u001b[1;33m\u001b[0m\u001b[0m\n\u001b[0m\u001b[0;32m      3\u001b[0m \u001b[0mfiles_csv\u001b[0m\u001b[1;33m\u001b[0m\u001b[1;33m\u001b[0m\u001b[0m\n",
      "\u001b[1;32mC:\\Users\\SHEDDY~1\\AppData\\Local\\Temp/ipykernel_11028/1675021842.py\u001b[0m in \u001b[0;36m<listcomp>\u001b[1;34m(.0)\u001b[0m\n\u001b[0;32m      1\u001b[0m \u001b[1;31m#csv file\u001b[0m\u001b[1;33m\u001b[0m\u001b[1;33m\u001b[0m\u001b[0m\n\u001b[1;32m----> 2\u001b[1;33m \u001b[0mfiles_csv\u001b[0m \u001b[1;33m=\u001b[0m \u001b[1;33m[\u001b[0m\u001b[0mfile\u001b[0m\u001b[1;33m[\u001b[0m\u001b[0mi\u001b[0m\u001b[1;33m]\u001b[0m \u001b[1;32mfor\u001b[0m \u001b[0mi\u001b[0m \u001b[1;32min\u001b[0m \u001b[0mrange\u001b[0m\u001b[1;33m(\u001b[0m\u001b[1;36m0\u001b[0m\u001b[1;33m,\u001b[0m\u001b[0mlen\u001b[0m\u001b[1;33m(\u001b[0m\u001b[0mfiles\u001b[0m\u001b[1;33m)\u001b[0m\u001b[1;33m,\u001b[0m \u001b[1;36m2\u001b[0m\u001b[1;33m)\u001b[0m\u001b[1;33m]\u001b[0m\u001b[1;33m\u001b[0m\u001b[1;33m\u001b[0m\u001b[0m\n\u001b[0m\u001b[0;32m      3\u001b[0m \u001b[0mfiles_csv\u001b[0m\u001b[1;33m\u001b[0m\u001b[1;33m\u001b[0m\u001b[0m\n",
      "\u001b[1;31mIndexError\u001b[0m: string index out of range"
     ]
    }
   ],
   "source": [
    "#csv file\n",
    "files_csv = [file[i] for i in range(0,len(files), 2)]\n",
    "files_csv"
   ]
  },
  {
   "cell_type": "code",
   "execution_count": 187,
   "id": "59c95e75",
   "metadata": {},
   "outputs": [],
   "source": [
    "## iterating the csv file to read all th data\n",
    "\n",
    "full_df = pd.DataFrame()\n",
    "\n",
    "for file in files_csv:\n",
    "    current_df = pd.read_csv(path + '/' + file, encoding='iso-8859-1', error_bad_lines=False)\n",
    "    \n",
    "    ##remove intial of country and create column for it\n",
    "    current_df['country'] = file.split('.')[0][0:2]\n",
    "    \n",
    "    #concat.\n",
    "    full_df = pd.concat([full_df,current_df])\n",
    "    "
   ]
  },
  {
   "cell_type": "code",
   "execution_count": 188,
   "id": "c14e464d",
   "metadata": {},
   "outputs": [
    {
     "data": {
      "text/html": [
       "<div>\n",
       "<style scoped>\n",
       "    .dataframe tbody tr th:only-of-type {\n",
       "        vertical-align: middle;\n",
       "    }\n",
       "\n",
       "    .dataframe tbody tr th {\n",
       "        vertical-align: top;\n",
       "    }\n",
       "\n",
       "    .dataframe thead th {\n",
       "        text-align: right;\n",
       "    }\n",
       "</style>\n",
       "<table border=\"1\" class=\"dataframe\">\n",
       "  <thead>\n",
       "    <tr style=\"text-align: right;\">\n",
       "      <th></th>\n",
       "      <th>video_id</th>\n",
       "      <th>trending_date</th>\n",
       "      <th>title</th>\n",
       "      <th>channel_title</th>\n",
       "      <th>category_id</th>\n",
       "      <th>publish_time</th>\n",
       "      <th>tags</th>\n",
       "      <th>views</th>\n",
       "      <th>likes</th>\n",
       "      <th>dislikes</th>\n",
       "      <th>comment_count</th>\n",
       "      <th>thumbnail_link</th>\n",
       "      <th>comments_disabled</th>\n",
       "      <th>ratings_disabled</th>\n",
       "      <th>video_error_or_removed</th>\n",
       "      <th>description</th>\n",
       "      <th>country</th>\n",
       "    </tr>\n",
       "  </thead>\n",
       "  <tbody>\n",
       "    <tr>\n",
       "      <th>0</th>\n",
       "      <td>n1WpP7iowLc</td>\n",
       "      <td>17.14.11</td>\n",
       "      <td>Eminem - Walk On Water (Audio) ft. BeyoncÃ©</td>\n",
       "      <td>EminemVEVO</td>\n",
       "      <td>10</td>\n",
       "      <td>2017-11-10T17:00:03.000Z</td>\n",
       "      <td>Eminem|\"Walk\"|\"On\"|\"Water\"|\"Aftermath/Shady/In...</td>\n",
       "      <td>17158579</td>\n",
       "      <td>787425</td>\n",
       "      <td>43420</td>\n",
       "      <td>125882</td>\n",
       "      <td>https://i.ytimg.com/vi/n1WpP7iowLc/default.jpg</td>\n",
       "      <td>False</td>\n",
       "      <td>False</td>\n",
       "      <td>False</td>\n",
       "      <td>Eminem's new track Walk on Water ft. BeyoncÃ© ...</td>\n",
       "      <td>CA</td>\n",
       "    </tr>\n",
       "    <tr>\n",
       "      <th>1</th>\n",
       "      <td>0dBIkQ4Mz1M</td>\n",
       "      <td>17.14.11</td>\n",
       "      <td>PLUSH - Bad Unboxing Fan Mail</td>\n",
       "      <td>iDubbbzTV</td>\n",
       "      <td>23</td>\n",
       "      <td>2017-11-13T17:00:00.000Z</td>\n",
       "      <td>plush|\"bad unboxing\"|\"unboxing\"|\"fan mail\"|\"id...</td>\n",
       "      <td>1014651</td>\n",
       "      <td>127794</td>\n",
       "      <td>1688</td>\n",
       "      <td>13030</td>\n",
       "      <td>https://i.ytimg.com/vi/0dBIkQ4Mz1M/default.jpg</td>\n",
       "      <td>False</td>\n",
       "      <td>False</td>\n",
       "      <td>False</td>\n",
       "      <td>STill got a lot of packages. Probably will las...</td>\n",
       "      <td>CA</td>\n",
       "    </tr>\n",
       "    <tr>\n",
       "      <th>2</th>\n",
       "      <td>5qpjK5DgCt4</td>\n",
       "      <td>17.14.11</td>\n",
       "      <td>Racist Superman | Rudy Mancuso, King Bach &amp; Le...</td>\n",
       "      <td>Rudy Mancuso</td>\n",
       "      <td>23</td>\n",
       "      <td>2017-11-12T19:05:24.000Z</td>\n",
       "      <td>racist superman|\"rudy\"|\"mancuso\"|\"king\"|\"bach\"...</td>\n",
       "      <td>3191434</td>\n",
       "      <td>146035</td>\n",
       "      <td>5339</td>\n",
       "      <td>8181</td>\n",
       "      <td>https://i.ytimg.com/vi/5qpjK5DgCt4/default.jpg</td>\n",
       "      <td>False</td>\n",
       "      <td>False</td>\n",
       "      <td>False</td>\n",
       "      <td>WATCH MY PREVIOUS VIDEO â¶ \\n\\nSUBSCRIBE âº ...</td>\n",
       "      <td>CA</td>\n",
       "    </tr>\n",
       "    <tr>\n",
       "      <th>3</th>\n",
       "      <td>d380meD0W0M</td>\n",
       "      <td>17.14.11</td>\n",
       "      <td>I Dare You: GOING BALD!?</td>\n",
       "      <td>nigahiga</td>\n",
       "      <td>24</td>\n",
       "      <td>2017-11-12T18:01:41.000Z</td>\n",
       "      <td>ryan|\"higa\"|\"higatv\"|\"nigahiga\"|\"i dare you\"|\"...</td>\n",
       "      <td>2095828</td>\n",
       "      <td>132239</td>\n",
       "      <td>1989</td>\n",
       "      <td>17518</td>\n",
       "      <td>https://i.ytimg.com/vi/d380meD0W0M/default.jpg</td>\n",
       "      <td>False</td>\n",
       "      <td>False</td>\n",
       "      <td>False</td>\n",
       "      <td>I know it's been a while since we did this sho...</td>\n",
       "      <td>CA</td>\n",
       "    </tr>\n",
       "  </tbody>\n",
       "</table>\n",
       "</div>"
      ],
      "text/plain": [
       "      video_id trending_date  \\\n",
       "0  n1WpP7iowLc      17.14.11   \n",
       "1  0dBIkQ4Mz1M      17.14.11   \n",
       "2  5qpjK5DgCt4      17.14.11   \n",
       "3  d380meD0W0M      17.14.11   \n",
       "\n",
       "                                               title channel_title  \\\n",
       "0        Eminem - Walk On Water (Audio) ft. BeyoncÃ©    EminemVEVO   \n",
       "1                      PLUSH - Bad Unboxing Fan Mail     iDubbbzTV   \n",
       "2  Racist Superman | Rudy Mancuso, King Bach & Le...  Rudy Mancuso   \n",
       "3                           I Dare You: GOING BALD!?      nigahiga   \n",
       "\n",
       "   category_id              publish_time  \\\n",
       "0           10  2017-11-10T17:00:03.000Z   \n",
       "1           23  2017-11-13T17:00:00.000Z   \n",
       "2           23  2017-11-12T19:05:24.000Z   \n",
       "3           24  2017-11-12T18:01:41.000Z   \n",
       "\n",
       "                                                tags     views   likes  \\\n",
       "0  Eminem|\"Walk\"|\"On\"|\"Water\"|\"Aftermath/Shady/In...  17158579  787425   \n",
       "1  plush|\"bad unboxing\"|\"unboxing\"|\"fan mail\"|\"id...   1014651  127794   \n",
       "2  racist superman|\"rudy\"|\"mancuso\"|\"king\"|\"bach\"...   3191434  146035   \n",
       "3  ryan|\"higa\"|\"higatv\"|\"nigahiga\"|\"i dare you\"|\"...   2095828  132239   \n",
       "\n",
       "   dislikes  comment_count                                  thumbnail_link  \\\n",
       "0     43420         125882  https://i.ytimg.com/vi/n1WpP7iowLc/default.jpg   \n",
       "1      1688          13030  https://i.ytimg.com/vi/0dBIkQ4Mz1M/default.jpg   \n",
       "2      5339           8181  https://i.ytimg.com/vi/5qpjK5DgCt4/default.jpg   \n",
       "3      1989          17518  https://i.ytimg.com/vi/d380meD0W0M/default.jpg   \n",
       "\n",
       "   comments_disabled  ratings_disabled  video_error_or_removed  \\\n",
       "0              False             False                   False   \n",
       "1              False             False                   False   \n",
       "2              False             False                   False   \n",
       "3              False             False                   False   \n",
       "\n",
       "                                         description country  \n",
       "0  Eminem's new track Walk on Water ft. BeyoncÃ© ...      CA  \n",
       "1  STill got a lot of packages. Probably will las...      CA  \n",
       "2  WATCH MY PREVIOUS VIDEO â¶ \\n\\nSUBSCRIBE âº ...      CA  \n",
       "3  I know it's been a while since we did this sho...      CA  "
      ]
     },
     "execution_count": 188,
     "metadata": {},
     "output_type": "execute_result"
    }
   ],
   "source": [
    "full_df.head(4)"
   ]
  },
  {
   "cell_type": "code",
   "execution_count": 189,
   "id": "17dab206",
   "metadata": {},
   "outputs": [
    {
     "data": {
      "text/plain": [
       "(375942, 17)"
      ]
     },
     "execution_count": 189,
     "metadata": {},
     "output_type": "execute_result"
    }
   ],
   "source": [
    "full_df.shape"
   ]
  },
  {
   "cell_type": "code",
   "execution_count": null,
   "id": "1ff350d1",
   "metadata": {},
   "outputs": [],
   "source": []
  },
  {
   "cell_type": "code",
   "execution_count": null,
   "id": "7e7ba214",
   "metadata": {},
   "outputs": [],
   "source": []
  },
  {
   "cell_type": "code",
   "execution_count": null,
   "id": "cc1a6805",
   "metadata": {},
   "outputs": [],
   "source": []
  },
  {
   "cell_type": "code",
   "execution_count": null,
   "id": "bf0df99a",
   "metadata": {},
   "outputs": [],
   "source": []
  },
  {
   "cell_type": "code",
   "execution_count": null,
   "id": "d373de08",
   "metadata": {},
   "outputs": [],
   "source": []
  },
  {
   "cell_type": "code",
   "execution_count": null,
   "id": "840a320a",
   "metadata": {},
   "outputs": [],
   "source": []
  }
 ],
 "metadata": {
  "finalized": {
   "timestamp": 1646523890253,
   "trusted": false
  },
  "kernelspec": {
   "display_name": "Python 3 (ipykernel)",
   "language": "python",
   "name": "python3"
  },
  "language_info": {
   "codemirror_mode": {
    "name": "ipython",
    "version": 3
   },
   "file_extension": ".py",
   "mimetype": "text/x-python",
   "name": "python",
   "nbconvert_exporter": "python",
   "pygments_lexer": "ipython3",
   "version": "3.9.7"
  },
  "toc": {
   "base_numbering": 1,
   "nav_menu": {},
   "number_sections": true,
   "sideBar": true,
   "skip_h1_title": false,
   "title_cell": "Table of Contents",
   "title_sidebar": "Contents",
   "toc_cell": false,
   "toc_position": {
    "height": "calc(100% - 180px)",
    "left": "10px",
    "top": "150px",
    "width": "236.319px"
   },
   "toc_section_display": true,
   "toc_window_display": true
  },
  "varInspector": {
   "cols": {
    "lenName": 16,
    "lenType": 16,
    "lenVar": 40
   },
   "kernels_config": {
    "python": {
     "delete_cmd_postfix": "",
     "delete_cmd_prefix": "del ",
     "library": "var_list.py",
     "varRefreshCmd": "print(var_dic_list())"
    },
    "r": {
     "delete_cmd_postfix": ") ",
     "delete_cmd_prefix": "rm(",
     "library": "var_list.r",
     "varRefreshCmd": "cat(var_dic_list()) "
    }
   },
   "types_to_exclude": [
    "module",
    "function",
    "builtin_function_or_method",
    "instance",
    "_Feature"
   ],
   "window_display": false
  }
 },
 "nbformat": 4,
 "nbformat_minor": 5
}

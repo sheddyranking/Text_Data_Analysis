{
 "cells": [
  {
   "cell_type": "code",
   "execution_count": 1,
   "id": "46524b39",
   "metadata": {},
   "outputs": [],
   "source": [
    "import pandas as pd "
   ]
  },
  {
   "cell_type": "code",
   "execution_count": 2,
   "id": "7c67a44a",
   "metadata": {},
   "outputs": [
    {
     "name": "stderr",
     "output_type": "stream",
     "text": [
      "2022-03-11 13:39:56,920 [4140] WARNING  py.warnings:109: [JupyterRequire] C:\\ProgramData\\Anaconda3\\lib\\site-packages\\IPython\\core\\interactiveshell.py:3444: FutureWarning: The error_bad_lines argument has been deprecated and will be removed in a future version.\n",
      "\n",
      "\n",
      "  exec(code_obj, self.user_global_ns, self.user_ns)\n",
      "\n",
      "b'Skipping line 41589: expected 4 fields, saw 11\\nSkipping line 51628: expected 4 fields, saw 7\\nSkipping line 114465: expected 4 fields, saw 5\\n'\n",
      "b'Skipping line 142496: expected 4 fields, saw 8\\nSkipping line 189732: expected 4 fields, saw 6\\nSkipping line 245218: expected 4 fields, saw 7\\n'\n",
      "b'Skipping line 388430: expected 4 fields, saw 5\\n'\n",
      "2022-03-11 13:39:59,100 [4140] WARNING  py.warnings:109: [JupyterRequire] C:\\ProgramData\\Anaconda3\\lib\\site-packages\\IPython\\core\\interactiveshell.py:3444: DtypeWarning: Columns (2,3) have mixed types.Specify dtype option on import or set low_memory=False.\n",
      "  exec(code_obj, self.user_global_ns, self.user_ns)\n",
      "\n"
     ]
    },
    {
     "data": {
      "text/html": [
       "<div>\n",
       "<style scoped>\n",
       "    .dataframe tbody tr th:only-of-type {\n",
       "        vertical-align: middle;\n",
       "    }\n",
       "\n",
       "    .dataframe tbody tr th {\n",
       "        vertical-align: top;\n",
       "    }\n",
       "\n",
       "    .dataframe thead th {\n",
       "        text-align: right;\n",
       "    }\n",
       "</style>\n",
       "<table border=\"1\" class=\"dataframe\">\n",
       "  <thead>\n",
       "    <tr style=\"text-align: right;\">\n",
       "      <th></th>\n",
       "      <th>video_id</th>\n",
       "      <th>comment_text</th>\n",
       "      <th>likes</th>\n",
       "      <th>replies</th>\n",
       "    </tr>\n",
       "  </thead>\n",
       "  <tbody>\n",
       "    <tr>\n",
       "      <th>0</th>\n",
       "      <td>XpVt6Z1Gjjo</td>\n",
       "      <td>Logan Paul it's yo big day ‼️‼️‼️</td>\n",
       "      <td>4</td>\n",
       "      <td>0</td>\n",
       "    </tr>\n",
       "    <tr>\n",
       "      <th>1</th>\n",
       "      <td>XpVt6Z1Gjjo</td>\n",
       "      <td>I've been following you from the start of your...</td>\n",
       "      <td>3</td>\n",
       "      <td>0</td>\n",
       "    </tr>\n",
       "    <tr>\n",
       "      <th>2</th>\n",
       "      <td>XpVt6Z1Gjjo</td>\n",
       "      <td>Say hi to Kong and maverick for me</td>\n",
       "      <td>3</td>\n",
       "      <td>0</td>\n",
       "    </tr>\n",
       "    <tr>\n",
       "      <th>3</th>\n",
       "      <td>XpVt6Z1Gjjo</td>\n",
       "      <td>MY FAN . attendance</td>\n",
       "      <td>3</td>\n",
       "      <td>0</td>\n",
       "    </tr>\n",
       "    <tr>\n",
       "      <th>4</th>\n",
       "      <td>XpVt6Z1Gjjo</td>\n",
       "      <td>trending 😉</td>\n",
       "      <td>3</td>\n",
       "      <td>0</td>\n",
       "    </tr>\n",
       "  </tbody>\n",
       "</table>\n",
       "</div>"
      ],
      "text/plain": [
       "      video_id                                       comment_text likes  \\\n",
       "0  XpVt6Z1Gjjo                  Logan Paul it's yo big day ‼️‼️‼️     4   \n",
       "1  XpVt6Z1Gjjo  I've been following you from the start of your...     3   \n",
       "2  XpVt6Z1Gjjo                 Say hi to Kong and maverick for me     3   \n",
       "3  XpVt6Z1Gjjo                                MY FAN . attendance     3   \n",
       "4  XpVt6Z1Gjjo                                         trending 😉     3   \n",
       "\n",
       "  replies  \n",
       "0       0  \n",
       "1       0  \n",
       "2       0  \n",
       "3       0  \n",
       "4       0  "
      ]
     },
     "execution_count": 2,
     "metadata": {},
     "output_type": "execute_result"
    }
   ],
   "source": [
    "comments = pd.read_csv('UScomments.csv',error_bad_lines=False)\n",
    "comments.head()"
   ]
  },
  {
   "cell_type": "code",
   "execution_count": null,
   "id": "af39b7bb",
   "metadata": {},
   "outputs": [],
   "source": []
  },
  {
   "cell_type": "code",
   "execution_count": 3,
   "id": "a0ae3aee",
   "metadata": {},
   "outputs": [
    {
     "data": {
      "text/plain": [
       "video_id         0\n",
       "comment_text    25\n",
       "likes            0\n",
       "replies          0\n",
       "dtype: int64"
      ]
     },
     "execution_count": 3,
     "metadata": {},
     "output_type": "execute_result"
    }
   ],
   "source": [
    "comments.isnull().sum()"
   ]
  },
  {
   "cell_type": "code",
   "execution_count": null,
   "id": "d6e253ff",
   "metadata": {},
   "outputs": [],
   "source": []
  },
  {
   "cell_type": "code",
   "execution_count": 4,
   "id": "bde55bd2",
   "metadata": {},
   "outputs": [],
   "source": [
    "comments.dropna(inplace=True)"
   ]
  },
  {
   "cell_type": "code",
   "execution_count": null,
   "id": "04950bc1",
   "metadata": {},
   "outputs": [],
   "source": []
  },
  {
   "cell_type": "code",
   "execution_count": 5,
   "id": "fa8decd4",
   "metadata": {},
   "outputs": [
    {
     "data": {
      "text/html": [
       "<div>\n",
       "<style scoped>\n",
       "    .dataframe tbody tr th:only-of-type {\n",
       "        vertical-align: middle;\n",
       "    }\n",
       "\n",
       "    .dataframe tbody tr th {\n",
       "        vertical-align: top;\n",
       "    }\n",
       "\n",
       "    .dataframe thead th {\n",
       "        text-align: right;\n",
       "    }\n",
       "</style>\n",
       "<table border=\"1\" class=\"dataframe\">\n",
       "  <thead>\n",
       "    <tr style=\"text-align: right;\">\n",
       "      <th></th>\n",
       "      <th>video_id</th>\n",
       "      <th>comment_text</th>\n",
       "      <th>likes</th>\n",
       "      <th>replies</th>\n",
       "    </tr>\n",
       "  </thead>\n",
       "  <tbody>\n",
       "    <tr>\n",
       "      <th>0</th>\n",
       "      <td>XpVt6Z1Gjjo</td>\n",
       "      <td>Logan Paul it's yo big day ‼️‼️‼️</td>\n",
       "      <td>4</td>\n",
       "      <td>0</td>\n",
       "    </tr>\n",
       "    <tr>\n",
       "      <th>1</th>\n",
       "      <td>XpVt6Z1Gjjo</td>\n",
       "      <td>I've been following you from the start of your...</td>\n",
       "      <td>3</td>\n",
       "      <td>0</td>\n",
       "    </tr>\n",
       "    <tr>\n",
       "      <th>2</th>\n",
       "      <td>XpVt6Z1Gjjo</td>\n",
       "      <td>Say hi to Kong and maverick for me</td>\n",
       "      <td>3</td>\n",
       "      <td>0</td>\n",
       "    </tr>\n",
       "    <tr>\n",
       "      <th>3</th>\n",
       "      <td>XpVt6Z1Gjjo</td>\n",
       "      <td>MY FAN . attendance</td>\n",
       "      <td>3</td>\n",
       "      <td>0</td>\n",
       "    </tr>\n",
       "    <tr>\n",
       "      <th>4</th>\n",
       "      <td>XpVt6Z1Gjjo</td>\n",
       "      <td>trending 😉</td>\n",
       "      <td>3</td>\n",
       "      <td>0</td>\n",
       "    </tr>\n",
       "  </tbody>\n",
       "</table>\n",
       "</div>"
      ],
      "text/plain": [
       "      video_id                                       comment_text likes  \\\n",
       "0  XpVt6Z1Gjjo                  Logan Paul it's yo big day ‼️‼️‼️     4   \n",
       "1  XpVt6Z1Gjjo  I've been following you from the start of your...     3   \n",
       "2  XpVt6Z1Gjjo                 Say hi to Kong and maverick for me     3   \n",
       "3  XpVt6Z1Gjjo                                MY FAN . attendance     3   \n",
       "4  XpVt6Z1Gjjo                                         trending 😉     3   \n",
       "\n",
       "  replies  \n",
       "0       0  \n",
       "1       0  \n",
       "2       0  \n",
       "3       0  \n",
       "4       0  "
      ]
     },
     "execution_count": 5,
     "metadata": {},
     "output_type": "execute_result"
    }
   ],
   "source": [
    "comments.head()"
   ]
  },
  {
   "cell_type": "code",
   "execution_count": null,
   "id": "6c596207",
   "metadata": {},
   "outputs": [],
   "source": []
  },
  {
   "cell_type": "code",
   "execution_count": 6,
   "id": "1828ca0f",
   "metadata": {},
   "outputs": [],
   "source": [
    "import emoji"
   ]
  },
  {
   "cell_type": "code",
   "execution_count": 7,
   "id": "95b80fc4",
   "metadata": {},
   "outputs": [],
   "source": [
    "\n",
    "emoji_list = []\n",
    "for comment in comments['comment_text']:\n",
    "    for char in comment:\n",
    "        if char in emoji.UNICODE_EMOJI_ENGLISH:\n",
    "            emoji_list.append(char)"
   ]
  },
  {
   "cell_type": "code",
   "execution_count": 8,
   "id": "6242d584",
   "metadata": {},
   "outputs": [
    {
     "data": {
      "text/plain": [
       "294549"
      ]
     },
     "execution_count": 8,
     "metadata": {},
     "output_type": "execute_result"
    }
   ],
   "source": [
    "len(emoji_list)"
   ]
  },
  {
   "cell_type": "code",
   "execution_count": 9,
   "id": "dcfd0028",
   "metadata": {},
   "outputs": [],
   "source": [
    "emoji_list = emoji_list[0:10000]"
   ]
  },
  {
   "cell_type": "code",
   "execution_count": 165,
   "id": "78bce636",
   "metadata": {},
   "outputs": [
    {
     "name": "stdout",
     "output_type": "stream",
     "text": [
      "{'‼': 16, '😉': 46, '😭': 214, '👍': 173, '🏻': 115, '❤': 1096, '😍': 1101, '💋': 49, '💙': 44, '👈': 13, '😂': 1557, '🔥': 325, '👻': 8, '💎': 2, '😆': 49, '😁': 100, '😒': 14, '👏': 243, '😊': 158, '👌': 121, '🤔': 59, '💔': 11, '👎': 20, '🍎': 4, '😤': 9, '😢': 52, '👫': 6, '💘': 12, '😻': 38, '💖': 143, '🌟': 20, '😮': 60, '👇': 3, '😳': 20, '😠': 24, '😴': 11, '😝': 12, '™': 2, '☺': 37, '😔': 20, '😩': 56, '😡': 10, '🙏': 109, '😄': 59, '😬': 10, '☹': 6, '🤷': 11, '🤣': 97, '😃': 47, '🏽': 62, '🍏': 1, '😓': 15, '🤦': 8, '♀': 10, '😞': 23, '🏼': 82, '✌': 30, '💀': 29, '👀': 19, '😱': 87, '👑': 23, '🌮': 7, '😀': 37, '💆': 2, '🏿': 26, '♂': 10, '😅': 36, '🐂': 2, '💩': 88, '💕': 258, '💓': 36, '💗': 71, '💝': 11, '💜': 53, '😎': 55, '🎉': 46, '😋': 20, '😘': 178, '😐': 16, '😕': 23, '🤘': 18, '🙌': 85, '😏': 27, '😛': 13, '🌳': 1, '🌽': 1, '🎃': 2, '🚣': 3, '🚂': 2, '😑': 20, '✨': 24, '👅': 3, '💦': 55, '🌴': 3, '😫': 15, '😥': 13, '💪': 24, '🙂': 13, '🙈': 12, '😲': 33, '🤢': 14, '🎧': 13, '🎶': 33, '🎵': 11, '🎼': 9, '🎤': 11, '♨': 2, '💯': 29, '👊': 33, '💏': 2, '🙃': 7, '🐸': 3, '🏈': 2, '💁': 14, '🤡': 21, '🙇': 2, '👋': 7, '💄': 6, '🐐': 6, '😇': 28, '🐊': 3, '🌎': 3, '🖤': 21, '🤗': 32, '🙄': 27, '😨': 12, '😌': 12, '🤑': 9, '😗': 13, '📱': 21, '🌀': 5, '🏾': 36, '😶': 8, '😖': 5, '🙋': 11, '🌹': 24, '😵': 12, '🌯': 6, '😣': 11, '💛': 43, '💞': 38, '😽': 4, '♥': 85, '😜': 16, '🚩': 1, '🆙': 1, '🆒': 1, '✔': 5, '🙊': 5, '😹': 11, '🥀': 2, '🍫': 10, '👸': 20, '😰': 15, '💚': 26, '🎊': 7, '🎂': 3, '🐈': 3, '⌚': 5, '👿': 31, '💸': 25, '💰': 24, '🏀': 2, '🎈': 12, '🔪': 7, '🚫': 1, '🤠': 1, '🖕': 7, '👉': 2, '✊': 6, '🤴': 3, '🐘': 2, '❄': 9, '🍦': 2, '🅱': 8, '😙': 17, '💧': 2, '❗': 3, '😈': 13, '🙁': 3, '👽': 5, '⚠': 2, '👭': 5, '🍓': 3, '😯': 4, '🎥': 4, '☝': 4, '❣': 5, '🎀': 2, '🍭': 1, '💌': 6, '🐼': 2, '😚': 12, '🌻': 1, '🐇': 4, '🐰': 3, '🔸': 21, '🚀': 8, '🚔': 1, '🚒': 1, '🚑': 1, '💃': 19, '💟': 4, '💨': 2, '🎺': 4, '👣': 3, '👆': 3, '👂': 2, '👃': 2, '🌭': 2, '👐': 4, '🌊': 3, '🌞': 3, '🦄': 9, '🌬': 1, '🌪': 2, '⛈': 2, '🌲': 1, '😸': 8, '👮': 2, '👕': 3, '👖': 7, '👘': 2, '👚': 2, '👔': 2, '⬇': 1, '🍆': 3, '😦': 1, '😧': 8, '😟': 8, '😷': 1, '😪': 5, '🙍': 1, '🙅': 1, '🙆': 2, '🙎': 1, '😺': 3, '😼': 2, '😿': 3, '😾': 6, '🙀': 1, '🙉': 1, '👶': 2, '👦': 1, '👧': 1, '👨': 2, '👩': 1, '👴': 1, '👵': 1, '💑': 1, '👪': 2, '👬': 3, '👤': 1, '👥': 1, '👷': 1, '💂': 1, '👯': 2, '👰': 1, '🎅': 1, '👼': 2, '👱': 1, '👲': 1, '👳': 5, '💇': 1, '💅': 5, '👹': 3, '👺': 2, '👾': 1, '👄': 7, '✋': 6, '🔰': 1, '👞': 1, '👟': 1, '👒': 1, '🎩': 1, '🎓': 1, '👓': 2, '👗': 1, '👙': 1, '👠': 1, '👡': 1, '👢': 1, '👜': 1, '💼': 1, '🎒': 1, '👝': 1, '👛': 1, '💳': 2, '💵': 1, '💴': 1, '💶': 1, '💷': 1, '💱': 1, '🔫': 10, '💣': 6, '💉': 1, '💊': 2, '🚬': 1, '🔔': 4, '🔕': 1, '🚪': 1, '🔬': 1, '🔭': 1, '🔮': 1, '🔦': 2, '🔋': 1, '🔌': 1, '📜': 1, '📗': 1, '📘': 1, '📙': 1, '📚': 1, '📔': 1, '📒': 1, '📑': 1, '📓': 1, '📕': 1, '📖': 1, '📰': 1, '📛': 1, '🎄': 1, '🎁': 1, '🎆': 4, '🎇': 7, '🎍': 1, '🎋': 1, '📲': 2, '📟': 1, '☎': 1, '📞': 1, '📠': 1, '📦': 2, '✉': 1, '📨': 1, '📩': 1, '📪': 1, '📫': 1, '📭': 1, '📬': 1, '📮': 1, '📤': 1, '📥': 1, '📯': 1, '📢': 1, '📣': 1, '📡': 1, '💬': 1, '💭': 1, '✒': 1, '✏': 1, '📝': 1, '📏': 7, '📐': 5, '📍': 1, '📌': 1, '📎': 1, '✂': 1, '💺': 1, '💻': 1, '💽': 2, '💾': 1, '💿': 7, '📆': 1, '📅': 1, '📇': 1, '📋': 1, '📁': 1, '📂': 1, '📃': 1, '📄': 1, '📊': 1, '📈': 1, '📉': 1, '⛺': 1, '🎡': 3, '🎢': 2, '🎠': 3, '🎪': 1, '🎨': 1, '🎬': 4, '📷': 3, '📹': 2, '🎦': 1, '🎭': 3, '🎫': 1, '🎮': 1, '🎲': 1, '🎰': 1, '🃏': 1, '🎴': 1, '🀄': 1, '🎯': 1, '📺': 1, '📻': 1, '📀': 4, '📼': 2, '🎻': 3, '🎹': 9, '🎷': 3, '🎸': 4, '〽': 1, '🐕': 1, '🐶': 2, '🐩': 2, '🐱': 8, '🐀': 1, '🐁': 1, '🐭': 1, '🐹': 1, '🐢': 3, '🐓': 1, '🐔': 1, '🐣': 2, '🐤': 1, '🐥': 1, '🐦': 1, '🐏': 1, '🐑': 11, '🐺': 2, '🐃': 2, '🐄': 1, '🐮': 1, '🐴': 1, '🐗': 1, '🐖': 1, '🐷': 1, '🐽': 1, '🐍': 4, '🐧': 1, '🐨': 1, '🐒': 1, '🐵': 1, '🐆': 2, '🐯': 2, '🐻': 2, '🐫': 1, '🐪': 2, '🐳': 2, '🐋': 1, '🐟': 1, '🐠': 1, '🐡': 1, '🐙': 3, '🐚': 1, '🐬': 2, '🐌': 1, '🐛': 2, '🐜': 2, '🐝': 5, '🐞': 2, '🐲': 2, '🐉': 2, '🐾': 2, '🍸': 1, '🍺': 3, '🍻': 2, '🍷': 1, '🏡': 2, '💍': 1, '🤓': 4, '🦀': 1, '🕷': 2, '🍨': 1, '⛳': 1, '🤤': 8, '🎾': 1, '🍯': 1, '⛪': 8, '🆘': 1, '🦎': 1, '🦁': 1, '🐎': 1, '🐅': 1, '🌔': 1, '🌚': 2, '🌝': 3, '🌛': 1, '💫': 3, '🌜': 1, '🌓': 1, '🌒': 2, '🌑': 1, '🌗': 1, '🌍': 2, '🌕': 1, '🌖': 1, '🚤': 1, '🚝': 1, '🚡': 1, '🏝': 1, '🛤': 1, '🌌': 1, '🌠': 1, '⛰': 1, '🌁': 1, '🌆': 1, '🗼': 1, '🗽': 5, '🏗': 3, '🏟': 1, '🏯': 2, '🏰': 1, '🏘': 2, '🚢': 1, '🕌': 3, '🕋': 2, '🏢': 1, '⛩': 1, '🏬': 1, '🏛': 1, '🏨': 1, '🏪': 1, '🏣': 1, '🖥': 1, '⌨': 1, '🕰': 1, '⏱': 1, '⚒': 1, '🔝': 2, '🔜': 1, '🤥': 6, '🕺': 3, '🔐': 2, '🌺': 5, '🌸': 2, '🤧': 7, '💥': 12, '🤙': 5, '💐': 8, '♓': 1, '♣': 2, '🖐': 1, '🤐': 1, '🔨': 1, '🤚': 1, '🍼': 1, '🔴': 1, '🔵': 1, '🅾': 1, '☑': 1, '🍣': 2, '🍉': 1, '🌵': 1, '❌': 3, '🍕': 4, '🤨': 1, '🤹': 1, '↙': 1, '©': 1, '🍾': 1, '⚰': 1, '🏆': 1, '🍝': 2, '🍔': 2, '🍴': 1, '📿': 2, '🌋': 1, '🌈': 7, '⚡': 4, '🤞': 1, '®': 1, '🦋': 1, '🍰': 2, '🔊': 1, '🌶': 1, '☄': 1, '🥗': 1, '🍜': 1, '🍱': 2, '🥙': 1, '🍖': 1, '🍗': 1, '🍪': 4, '🍩': 1, '☠': 1, '☮': 1, '🤕': 1, '⭐': 1, '🔒': 1, '🥁': 2, '💤': 14, '🍁': 1, '🦑': 2}\n"
     ]
    }
   ],
   "source": [
    "\n",
    "def CountFrequency(my_list):\n",
    "    \n",
    "    freq = {}\n",
    "    \n",
    "    for char in my_list:\n",
    "        if char in freq:\n",
    "            freq[char] += 1\n",
    "        else:\n",
    "            freq[char] = 1\n",
    "    print(freq)\n",
    "            \n",
    "CountFrequency(emoji_list)"
   ]
  },
  {
   "cell_type": "code",
   "execution_count": null,
   "id": "cb35bb21",
   "metadata": {},
   "outputs": [],
   "source": [
    " "
   ]
  },
  {
   "cell_type": "code",
   "execution_count": null,
   "id": "c98b41ae",
   "metadata": {},
   "outputs": [],
   "source": []
  },
  {
   "cell_type": "code",
   "execution_count": null,
   "id": "86d4abb7",
   "metadata": {
    "run_control": {
     "marked": false
    }
   },
   "outputs": [],
   "source": [
    " "
   ]
  },
  {
   "cell_type": "code",
   "execution_count": null,
   "id": "d0318abd",
   "metadata": {},
   "outputs": [],
   "source": []
  }
 ],
 "metadata": {
  "kernelspec": {
   "display_name": "Python 3 (ipykernel)",
   "language": "python",
   "name": "python3"
  },
  "language_info": {
   "codemirror_mode": {
    "name": "ipython",
    "version": 3
   },
   "file_extension": ".py",
   "mimetype": "text/x-python",
   "name": "python",
   "nbconvert_exporter": "python",
   "pygments_lexer": "ipython3",
   "version": "3.9.7"
  },
  "toc": {
   "base_numbering": 1,
   "nav_menu": {},
   "number_sections": true,
   "sideBar": true,
   "skip_h1_title": false,
   "title_cell": "Table of Contents",
   "title_sidebar": "Contents",
   "toc_cell": false,
   "toc_position": {},
   "toc_section_display": true,
   "toc_window_display": true
  },
  "varInspector": {
   "cols": {
    "lenName": 16,
    "lenType": 16,
    "lenVar": 40
   },
   "kernels_config": {
    "python": {
     "delete_cmd_postfix": "",
     "delete_cmd_prefix": "del ",
     "library": "var_list.py",
     "varRefreshCmd": "print(var_dic_list())"
    },
    "r": {
     "delete_cmd_postfix": ") ",
     "delete_cmd_prefix": "rm(",
     "library": "var_list.r",
     "varRefreshCmd": "cat(var_dic_list()) "
    }
   },
   "types_to_exclude": [
    "module",
    "function",
    "builtin_function_or_method",
    "instance",
    "_Feature"
   ],
   "window_display": false
  }
 },
 "nbformat": 4,
 "nbformat_minor": 5
}
